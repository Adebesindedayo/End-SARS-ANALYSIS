{
 "cells": [
  {
   "cell_type": "code",
   "execution_count": 6,
   "metadata": {},
   "outputs": [
    {
     "name": "stderr",
     "output_type": "stream",
     "text": [
      "C:\\Users\\USER\\anaconda3\\envs\\endsarsproject\\lib\\site-packages\\gensim\\similarities\\__init__.py:15: UserWarning: The gensim.similarities.levenshtein submodule is disabled, because the optional Levenshtein package <https://pypi.org/project/python-Levenshtein/> is unavailable. Install Levenhstein (e.g. `pip install python-Levenshtein`) to suppress this warning.\n",
      "  warnings.warn(msg)\n"
     ]
    }
   ],
   "source": [
    "import pandas as pd\n",
    "import numpy as np\n",
    "import seaborn as sns\n",
    "import yaml\n",
    "import os\n",
    "import json\n",
    "import re\n",
    "import ast\n",
    "import csv\n",
    "import gensim\n",
    "from searchtweets import ResultStream, gen_request_parameters, load_credentials, collect_results\n",
    "# import fastText as ft\n",
    "from sklearn.model_selection import train_test_split\n",
    "import numpy as np\n",
    "from datetime import datetime, timedelta\n",
    "\n",
    "\n",
    "%matplotlib inline\n",
    "pd.set_option(\"display.max_rows\", 500)"
   ]
  },
  {
   "cell_type": "code",
   "execution_count": 3,
   "metadata": {},
   "outputs": [],
   "source": [
    "df=pd.read_pickle('endsars_tweets_master_clean_data.pkl')"
   ]
  },
  {
   "cell_type": "code",
   "execution_count": 3,
   "metadata": {},
   "outputs": [
    {
     "data": {
      "text/html": [
       "<div>\n",
       "<style scoped>\n",
       "    .dataframe tbody tr th:only-of-type {\n",
       "        vertical-align: middle;\n",
       "    }\n",
       "\n",
       "    .dataframe tbody tr th {\n",
       "        vertical-align: top;\n",
       "    }\n",
       "\n",
       "    .dataframe thead th {\n",
       "        text-align: right;\n",
       "    }\n",
       "</style>\n",
       "<table border=\"1\" class=\"dataframe\">\n",
       "  <thead>\n",
       "    <tr style=\"text-align: right;\">\n",
       "      <th></th>\n",
       "      <th>id</th>\n",
       "      <th>author_id</th>\n",
       "      <th>text</th>\n",
       "      <th>created_at</th>\n",
       "      <th>entities</th>\n",
       "      <th>public_metrics</th>\n",
       "      <th>referenced_tweets</th>\n",
       "      <th>in_reply_to_user_id</th>\n",
       "      <th>geo</th>\n",
       "      <th>users</th>\n",
       "      <th>...</th>\n",
       "      <th>like_count</th>\n",
       "      <th>user_like_count</th>\n",
       "      <th>quote_count</th>\n",
       "      <th>user_quote_count</th>\n",
       "      <th>retweet_count</th>\n",
       "      <th>user_retweet_count</th>\n",
       "      <th>hashtags</th>\n",
       "      <th>state</th>\n",
       "      <th>country</th>\n",
       "      <th>mentions</th>\n",
       "    </tr>\n",
       "  </thead>\n",
       "  <tbody>\n",
       "    <tr>\n",
       "      <th>0</th>\n",
       "      <td>1225932212933144581</td>\n",
       "      <td>406533892</td>\n",
       "      <td>RT @bbcnewspidgin: Victor, Ifeanyi &amp;amp; Osaze...</td>\n",
       "      <td>2020-02-07 23:59:50+00:00</td>\n",
       "      <td>{'mentions': [{'start': 3, 'end': 17, 'usernam...</td>\n",
       "      <td>{'retweet_count': 2097, 'reply_count': 0, 'lik...</td>\n",
       "      <td>[{'type': 'retweeted', 'id': '1225671357100199...</td>\n",
       "      <td>NaN</td>\n",
       "      <td>NaN</td>\n",
       "      <td>NaN</td>\n",
       "      <td>...</td>\n",
       "      <td>0.0</td>\n",
       "      <td>None</td>\n",
       "      <td>0.0</td>\n",
       "      <td>None</td>\n",
       "      <td>2097.0</td>\n",
       "      <td>None</td>\n",
       "      <td>[]</td>\n",
       "      <td>None</td>\n",
       "      <td>None</td>\n",
       "      <td>[bbcnewspidgin]</td>\n",
       "    </tr>\n",
       "    <tr>\n",
       "      <th>1</th>\n",
       "      <td>1225932207711281152</td>\n",
       "      <td>2848603625</td>\n",
       "      <td>Even God love dreads that was why he gave sams...</td>\n",
       "      <td>2020-02-07 23:59:49+00:00</td>\n",
       "      <td>{'hashtags': [{'start': 112, 'end': 120, 'tag'...</td>\n",
       "      <td>{'retweet_count': 0, 'reply_count': 0, 'like_c...</td>\n",
       "      <td>NaN</td>\n",
       "      <td>NaN</td>\n",
       "      <td>NaN</td>\n",
       "      <td>NaN</td>\n",
       "      <td>...</td>\n",
       "      <td>0.0</td>\n",
       "      <td>None</td>\n",
       "      <td>0.0</td>\n",
       "      <td>None</td>\n",
       "      <td>0.0</td>\n",
       "      <td>None</td>\n",
       "      <td>[EndSARS]</td>\n",
       "      <td>None</td>\n",
       "      <td>None</td>\n",
       "      <td>None</td>\n",
       "    </tr>\n",
       "    <tr>\n",
       "      <th>2</th>\n",
       "      <td>1225932128002678792</td>\n",
       "      <td>949215757988171776</td>\n",
       "      <td>RT @bbcnewspidgin: Victor, Ifeanyi &amp;amp; Osaze...</td>\n",
       "      <td>2020-02-07 23:59:30+00:00</td>\n",
       "      <td>{'mentions': [{'start': 3, 'end': 17, 'usernam...</td>\n",
       "      <td>{'retweet_count': 2097, 'reply_count': 0, 'lik...</td>\n",
       "      <td>[{'type': 'retweeted', 'id': '1225671357100199...</td>\n",
       "      <td>NaN</td>\n",
       "      <td>NaN</td>\n",
       "      <td>NaN</td>\n",
       "      <td>...</td>\n",
       "      <td>0.0</td>\n",
       "      <td>None</td>\n",
       "      <td>0.0</td>\n",
       "      <td>None</td>\n",
       "      <td>2097.0</td>\n",
       "      <td>None</td>\n",
       "      <td>[]</td>\n",
       "      <td>None</td>\n",
       "      <td>None</td>\n",
       "      <td>[bbcnewspidgin]</td>\n",
       "    </tr>\n",
       "    <tr>\n",
       "      <th>3</th>\n",
       "      <td>1225932101926707200</td>\n",
       "      <td>3062901987</td>\n",
       "      <td>RT @bbcnewspidgin: Victor, Ifeanyi &amp;amp; Osaze...</td>\n",
       "      <td>2020-02-07 23:59:24+00:00</td>\n",
       "      <td>{'mentions': [{'start': 3, 'end': 17, 'usernam...</td>\n",
       "      <td>{'retweet_count': 2097, 'reply_count': 0, 'lik...</td>\n",
       "      <td>[{'type': 'retweeted', 'id': '1225671357100199...</td>\n",
       "      <td>NaN</td>\n",
       "      <td>NaN</td>\n",
       "      <td>NaN</td>\n",
       "      <td>...</td>\n",
       "      <td>0.0</td>\n",
       "      <td>None</td>\n",
       "      <td>0.0</td>\n",
       "      <td>None</td>\n",
       "      <td>2097.0</td>\n",
       "      <td>None</td>\n",
       "      <td>[]</td>\n",
       "      <td>None</td>\n",
       "      <td>None</td>\n",
       "      <td>[bbcnewspidgin]</td>\n",
       "    </tr>\n",
       "    <tr>\n",
       "      <th>4</th>\n",
       "      <td>1225932076735700992</td>\n",
       "      <td>1081991545497284608</td>\n",
       "      <td>RT @bbcnewspidgin: Victor, Ifeanyi &amp;amp; Osaze...</td>\n",
       "      <td>2020-02-07 23:59:18+00:00</td>\n",
       "      <td>{'mentions': [{'start': 3, 'end': 17, 'usernam...</td>\n",
       "      <td>{'retweet_count': 2097, 'reply_count': 0, 'lik...</td>\n",
       "      <td>[{'type': 'retweeted', 'id': '1225671357100199...</td>\n",
       "      <td>NaN</td>\n",
       "      <td>NaN</td>\n",
       "      <td>NaN</td>\n",
       "      <td>...</td>\n",
       "      <td>0.0</td>\n",
       "      <td>None</td>\n",
       "      <td>0.0</td>\n",
       "      <td>None</td>\n",
       "      <td>2097.0</td>\n",
       "      <td>None</td>\n",
       "      <td>[]</td>\n",
       "      <td>None</td>\n",
       "      <td>None</td>\n",
       "      <td>[bbcnewspidgin]</td>\n",
       "    </tr>\n",
       "  </tbody>\n",
       "</table>\n",
       "<p>5 rows × 37 columns</p>\n",
       "</div>"
      ],
      "text/plain": [
       "                    id            author_id  \\\n",
       "0  1225932212933144581            406533892   \n",
       "1  1225932207711281152           2848603625   \n",
       "2  1225932128002678792   949215757988171776   \n",
       "3  1225932101926707200           3062901987   \n",
       "4  1225932076735700992  1081991545497284608   \n",
       "\n",
       "                                                text  \\\n",
       "0  RT @bbcnewspidgin: Victor, Ifeanyi &amp; Osaze...   \n",
       "1  Even God love dreads that was why he gave sams...   \n",
       "2  RT @bbcnewspidgin: Victor, Ifeanyi &amp; Osaze...   \n",
       "3  RT @bbcnewspidgin: Victor, Ifeanyi &amp; Osaze...   \n",
       "4  RT @bbcnewspidgin: Victor, Ifeanyi &amp; Osaze...   \n",
       "\n",
       "                 created_at  \\\n",
       "0 2020-02-07 23:59:50+00:00   \n",
       "1 2020-02-07 23:59:49+00:00   \n",
       "2 2020-02-07 23:59:30+00:00   \n",
       "3 2020-02-07 23:59:24+00:00   \n",
       "4 2020-02-07 23:59:18+00:00   \n",
       "\n",
       "                                            entities  \\\n",
       "0  {'mentions': [{'start': 3, 'end': 17, 'usernam...   \n",
       "1  {'hashtags': [{'start': 112, 'end': 120, 'tag'...   \n",
       "2  {'mentions': [{'start': 3, 'end': 17, 'usernam...   \n",
       "3  {'mentions': [{'start': 3, 'end': 17, 'usernam...   \n",
       "4  {'mentions': [{'start': 3, 'end': 17, 'usernam...   \n",
       "\n",
       "                                      public_metrics  \\\n",
       "0  {'retweet_count': 2097, 'reply_count': 0, 'lik...   \n",
       "1  {'retweet_count': 0, 'reply_count': 0, 'like_c...   \n",
       "2  {'retweet_count': 2097, 'reply_count': 0, 'lik...   \n",
       "3  {'retweet_count': 2097, 'reply_count': 0, 'lik...   \n",
       "4  {'retweet_count': 2097, 'reply_count': 0, 'lik...   \n",
       "\n",
       "                                   referenced_tweets in_reply_to_user_id  geo  \\\n",
       "0  [{'type': 'retweeted', 'id': '1225671357100199...                 NaN  NaN   \n",
       "1                                                NaN                 NaN  NaN   \n",
       "2  [{'type': 'retweeted', 'id': '1225671357100199...                 NaN  NaN   \n",
       "3  [{'type': 'retweeted', 'id': '1225671357100199...                 NaN  NaN   \n",
       "4  [{'type': 'retweeted', 'id': '1225671357100199...                 NaN  NaN   \n",
       "\n",
       "  users  ... like_count user_like_count quote_count user_quote_count  \\\n",
       "0   NaN  ...        0.0            None         0.0             None   \n",
       "1   NaN  ...        0.0            None         0.0             None   \n",
       "2   NaN  ...        0.0            None         0.0             None   \n",
       "3   NaN  ...        0.0            None         0.0             None   \n",
       "4   NaN  ...        0.0            None         0.0             None   \n",
       "\n",
       "   retweet_count user_retweet_count   hashtags state country         mentions  \n",
       "0         2097.0               None         []  None    None  [bbcnewspidgin]  \n",
       "1            0.0               None  [EndSARS]  None    None             None  \n",
       "2         2097.0               None         []  None    None  [bbcnewspidgin]  \n",
       "3         2097.0               None         []  None    None  [bbcnewspidgin]  \n",
       "4         2097.0               None         []  None    None  [bbcnewspidgin]  \n",
       "\n",
       "[5 rows x 37 columns]"
      ]
     },
     "execution_count": 3,
     "metadata": {},
     "output_type": "execute_result"
    }
   ],
   "source": [
    "df.head()"
   ]
  },
  {
   "cell_type": "code",
   "execution_count": 39,
   "metadata": {},
   "outputs": [],
   "source": [
    "df2=pd.read_pickle('data_combined.pkl')"
   ]
  },
  {
   "cell_type": "code",
   "execution_count": 13,
   "metadata": {},
   "outputs": [],
   "source": [
    "df3=pd.read_pickle('data_combine.pkl')"
   ]
  },
  {
   "cell_type": "code",
   "execution_count": 6,
   "metadata": {},
   "outputs": [
    {
     "data": {
      "text/html": [
       "<div>\n",
       "<style scoped>\n",
       "    .dataframe tbody tr th:only-of-type {\n",
       "        vertical-align: middle;\n",
       "    }\n",
       "\n",
       "    .dataframe tbody tr th {\n",
       "        vertical-align: top;\n",
       "    }\n",
       "\n",
       "    .dataframe thead th {\n",
       "        text-align: right;\n",
       "    }\n",
       "</style>\n",
       "<table border=\"1\" class=\"dataframe\">\n",
       "  <thead>\n",
       "    <tr style=\"text-align: right;\">\n",
       "      <th></th>\n",
       "      <th>id</th>\n",
       "      <th>entities</th>\n",
       "      <th>author_id</th>\n",
       "      <th>created_at_x</th>\n",
       "      <th>text</th>\n",
       "      <th>lang</th>\n",
       "      <th>possibly_sensitive</th>\n",
       "      <th>referenced_tweets</th>\n",
       "      <th>public_metrics_x</th>\n",
       "      <th>geo</th>\n",
       "      <th>...</th>\n",
       "      <th>username</th>\n",
       "      <th>verified</th>\n",
       "      <th>name</th>\n",
       "      <th>location</th>\n",
       "      <th>City</th>\n",
       "      <th>Country</th>\n",
       "      <th>public_metric_followers_count</th>\n",
       "      <th>public_metric_following_count</th>\n",
       "      <th>public_metric_tweet_count</th>\n",
       "      <th>public_metric_listed_count</th>\n",
       "    </tr>\n",
       "  </thead>\n",
       "  <tbody>\n",
       "    <tr>\n",
       "      <th>0</th>\n",
       "      <td>1214674154991042560</td>\n",
       "      <td>{'hashtags': [{'start': 57, 'end': 63, 'tag': ...</td>\n",
       "      <td>782957256434409472</td>\n",
       "      <td>2020-01-07T22:24:20.000Z</td>\n",
       "      <td>RT @Maximeks042: Today I witnesses brutality i...</td>\n",
       "      <td>en</td>\n",
       "      <td>False</td>\n",
       "      <td>[{'type': 'retweeted', 'id': '1213427724636819...</td>\n",
       "      <td>{'retweet_count': 222, 'reply_count': 0, 'like...</td>\n",
       "      <td>NaN</td>\n",
       "      <td>...</td>\n",
       "      <td>Johniky5</td>\n",
       "      <td>False</td>\n",
       "      <td>John iky</td>\n",
       "      <td></td>\n",
       "      <td></td>\n",
       "      <td></td>\n",
       "      <td>6814.0</td>\n",
       "      <td>5226.0</td>\n",
       "      <td>406196.0</td>\n",
       "      <td>44.0</td>\n",
       "    </tr>\n",
       "    <tr>\n",
       "      <th>1</th>\n",
       "      <td>1214667391206141957</td>\n",
       "      <td>{'hashtags': [{'start': 57, 'end': 63, 'tag': ...</td>\n",
       "      <td>827863696416321537</td>\n",
       "      <td>2020-01-07T21:57:28.000Z</td>\n",
       "      <td>RT @Maximeks042: Today I witnesses brutality i...</td>\n",
       "      <td>en</td>\n",
       "      <td>False</td>\n",
       "      <td>[{'type': 'retweeted', 'id': '1213427724636819...</td>\n",
       "      <td>{'retweet_count': 222, 'reply_count': 0, 'like...</td>\n",
       "      <td>NaN</td>\n",
       "      <td>...</td>\n",
       "      <td>emeriaemmanuel</td>\n",
       "      <td>False</td>\n",
       "      <td>Chukwuemeria</td>\n",
       "      <td></td>\n",
       "      <td></td>\n",
       "      <td></td>\n",
       "      <td>39.0</td>\n",
       "      <td>384.0</td>\n",
       "      <td>2154.0</td>\n",
       "      <td>0.0</td>\n",
       "    </tr>\n",
       "    <tr>\n",
       "      <th>2</th>\n",
       "      <td>1214648097919447040</td>\n",
       "      <td>{'hashtags': [{'start': 57, 'end': 63, 'tag': ...</td>\n",
       "      <td>3344738026</td>\n",
       "      <td>2020-01-07T20:40:48.000Z</td>\n",
       "      <td>RT @Maximeks042: Today I witnesses brutality i...</td>\n",
       "      <td>en</td>\n",
       "      <td>False</td>\n",
       "      <td>[{'type': 'retweeted', 'id': '1213427724636819...</td>\n",
       "      <td>{'retweet_count': 222, 'reply_count': 0, 'like...</td>\n",
       "      <td>NaN</td>\n",
       "      <td>...</td>\n",
       "      <td>EkpereNwankwo</td>\n",
       "      <td>False</td>\n",
       "      <td>Ekpere Nwankwo</td>\n",
       "      <td></td>\n",
       "      <td></td>\n",
       "      <td></td>\n",
       "      <td>5827.0</td>\n",
       "      <td>4772.0</td>\n",
       "      <td>316438.0</td>\n",
       "      <td>156.0</td>\n",
       "    </tr>\n",
       "    <tr>\n",
       "      <th>3</th>\n",
       "      <td>1214638748580884480</td>\n",
       "      <td>{'mentions': [{'start': 3, 'end': 18, 'usernam...</td>\n",
       "      <td>954711989842010112</td>\n",
       "      <td>2020-01-07T20:03:39.000Z</td>\n",
       "      <td>RT @DrOlufunmilayo: VERY URGENT:\\nSince 2017, ...</td>\n",
       "      <td>en</td>\n",
       "      <td>False</td>\n",
       "      <td>[{'type': 'retweeted', 'id': '1205787583000829...</td>\n",
       "      <td>{'retweet_count': 986, 'reply_count': 0, 'like...</td>\n",
       "      <td>NaN</td>\n",
       "      <td>...</td>\n",
       "      <td>ALegalEssence</td>\n",
       "      <td>False</td>\n",
       "      <td>Your TaiLaw</td>\n",
       "      <td>Lagos Nigeria</td>\n",
       "      <td>Lagos Nigeria</td>\n",
       "      <td>Lagos Nigeria</td>\n",
       "      <td>867.0</td>\n",
       "      <td>1372.0</td>\n",
       "      <td>3505.0</td>\n",
       "      <td>0.0</td>\n",
       "    </tr>\n",
       "    <tr>\n",
       "      <th>4</th>\n",
       "      <td>1214629356858937344</td>\n",
       "      <td>{'annotations': [{'start': 134, 'end': 144, 'p...</td>\n",
       "      <td>313725796</td>\n",
       "      <td>2020-01-07T19:26:20.000Z</td>\n",
       "      <td>So after they made people’s parents wear costu...</td>\n",
       "      <td>en</td>\n",
       "      <td>False</td>\n",
       "      <td>NaN</td>\n",
       "      <td>{'retweet_count': 0, 'reply_count': 0, 'like_c...</td>\n",
       "      <td>NaN</td>\n",
       "      <td>...</td>\n",
       "      <td>TheMercyWhite</td>\n",
       "      <td>False</td>\n",
       "      <td>Ify</td>\n",
       "      <td>Abuja</td>\n",
       "      <td>Abuja</td>\n",
       "      <td>Abuja</td>\n",
       "      <td>1677.0</td>\n",
       "      <td>379.0</td>\n",
       "      <td>31185.0</td>\n",
       "      <td>9.0</td>\n",
       "    </tr>\n",
       "  </tbody>\n",
       "</table>\n",
       "<p>5 rows × 38 columns</p>\n",
       "</div>"
      ],
      "text/plain": [
       "                    id                                           entities  \\\n",
       "0  1214674154991042560  {'hashtags': [{'start': 57, 'end': 63, 'tag': ...   \n",
       "1  1214667391206141957  {'hashtags': [{'start': 57, 'end': 63, 'tag': ...   \n",
       "2  1214648097919447040  {'hashtags': [{'start': 57, 'end': 63, 'tag': ...   \n",
       "3  1214638748580884480  {'mentions': [{'start': 3, 'end': 18, 'usernam...   \n",
       "4  1214629356858937344  {'annotations': [{'start': 134, 'end': 144, 'p...   \n",
       "\n",
       "            author_id              created_at_x  \\\n",
       "0  782957256434409472  2020-01-07T22:24:20.000Z   \n",
       "1  827863696416321537  2020-01-07T21:57:28.000Z   \n",
       "2          3344738026  2020-01-07T20:40:48.000Z   \n",
       "3  954711989842010112  2020-01-07T20:03:39.000Z   \n",
       "4           313725796  2020-01-07T19:26:20.000Z   \n",
       "\n",
       "                                                text lang possibly_sensitive  \\\n",
       "0  RT @Maximeks042: Today I witnesses brutality i...   en              False   \n",
       "1  RT @Maximeks042: Today I witnesses brutality i...   en              False   \n",
       "2  RT @Maximeks042: Today I witnesses brutality i...   en              False   \n",
       "3  RT @DrOlufunmilayo: VERY URGENT:\\nSince 2017, ...   en              False   \n",
       "4  So after they made people’s parents wear costu...   en              False   \n",
       "\n",
       "                                   referenced_tweets  \\\n",
       "0  [{'type': 'retweeted', 'id': '1213427724636819...   \n",
       "1  [{'type': 'retweeted', 'id': '1213427724636819...   \n",
       "2  [{'type': 'retweeted', 'id': '1213427724636819...   \n",
       "3  [{'type': 'retweeted', 'id': '1205787583000829...   \n",
       "4                                                NaN   \n",
       "\n",
       "                                    public_metrics_x  geo  ...  \\\n",
       "0  {'retweet_count': 222, 'reply_count': 0, 'like...  NaN  ...   \n",
       "1  {'retweet_count': 222, 'reply_count': 0, 'like...  NaN  ...   \n",
       "2  {'retweet_count': 222, 'reply_count': 0, 'like...  NaN  ...   \n",
       "3  {'retweet_count': 986, 'reply_count': 0, 'like...  NaN  ...   \n",
       "4  {'retweet_count': 0, 'reply_count': 0, 'like_c...  NaN  ...   \n",
       "\n",
       "         username verified            name        location            City  \\\n",
       "0        Johniky5    False        John iky                                   \n",
       "1  emeriaemmanuel    False    Chukwuemeria                                   \n",
       "2   EkpereNwankwo    False  Ekpere Nwankwo                                   \n",
       "3   ALegalEssence    False     Your TaiLaw  Lagos Nigeria   Lagos Nigeria    \n",
       "4   TheMercyWhite    False             Ify           Abuja           Abuja   \n",
       "\n",
       "          Country  public_metric_followers_count  \\\n",
       "0                                         6814.0   \n",
       "1                                           39.0   \n",
       "2                                         5827.0   \n",
       "3  Lagos Nigeria                           867.0   \n",
       "4           Abuja                         1677.0   \n",
       "\n",
       "  public_metric_following_count public_metric_tweet_count  \\\n",
       "0                        5226.0                  406196.0   \n",
       "1                         384.0                    2154.0   \n",
       "2                        4772.0                  316438.0   \n",
       "3                        1372.0                    3505.0   \n",
       "4                         379.0                   31185.0   \n",
       "\n",
       "   public_metric_listed_count  \n",
       "0                        44.0  \n",
       "1                         0.0  \n",
       "2                       156.0  \n",
       "3                         0.0  \n",
       "4                         9.0  \n",
       "\n",
       "[5 rows x 38 columns]"
      ]
     },
     "execution_count": 6,
     "metadata": {},
     "output_type": "execute_result"
    }
   ],
   "source": [
    "df2.head()"
   ]
  },
  {
   "cell_type": "code",
   "execution_count": 7,
   "metadata": {},
   "outputs": [
    {
     "data": {
      "text/html": [
       "<div>\n",
       "<style scoped>\n",
       "    .dataframe tbody tr th:only-of-type {\n",
       "        vertical-align: middle;\n",
       "    }\n",
       "\n",
       "    .dataframe tbody tr th {\n",
       "        vertical-align: top;\n",
       "    }\n",
       "\n",
       "    .dataframe thead th {\n",
       "        text-align: right;\n",
       "    }\n",
       "</style>\n",
       "<table border=\"1\" class=\"dataframe\">\n",
       "  <thead>\n",
       "    <tr style=\"text-align: right;\">\n",
       "      <th></th>\n",
       "      <th>id</th>\n",
       "      <th>entities</th>\n",
       "      <th>author_id</th>\n",
       "      <th>created_at_x</th>\n",
       "      <th>text</th>\n",
       "      <th>lang</th>\n",
       "      <th>possibly_sensitive</th>\n",
       "      <th>referenced_tweets</th>\n",
       "      <th>public_metrics_x</th>\n",
       "      <th>geo</th>\n",
       "      <th>...</th>\n",
       "      <th>username</th>\n",
       "      <th>verified</th>\n",
       "      <th>name</th>\n",
       "      <th>location</th>\n",
       "      <th>City</th>\n",
       "      <th>Country</th>\n",
       "      <th>public_metric_followers_count</th>\n",
       "      <th>public_metric_following_count</th>\n",
       "      <th>public_metric_tweet_count</th>\n",
       "      <th>public_metric_listed_count</th>\n",
       "    </tr>\n",
       "  </thead>\n",
       "  <tbody>\n",
       "    <tr>\n",
       "      <th>0</th>\n",
       "      <td>1214674154991042560</td>\n",
       "      <td>{'hashtags': [{'start': 57, 'end': 63, 'tag': ...</td>\n",
       "      <td>782957256434409472</td>\n",
       "      <td>2020-01-07T22:24:20.000Z</td>\n",
       "      <td>RT @Maximeks042: Today I witnesses brutality i...</td>\n",
       "      <td>en</td>\n",
       "      <td>False</td>\n",
       "      <td>[{'type': 'retweeted', 'id': '1213427724636819...</td>\n",
       "      <td>{'retweet_count': 222, 'reply_count': 0, 'like...</td>\n",
       "      <td>NaN</td>\n",
       "      <td>...</td>\n",
       "      <td>Johniky5</td>\n",
       "      <td>False</td>\n",
       "      <td>John iky</td>\n",
       "      <td></td>\n",
       "      <td></td>\n",
       "      <td></td>\n",
       "      <td>6814.0</td>\n",
       "      <td>5226.0</td>\n",
       "      <td>406196.0</td>\n",
       "      <td>44.0</td>\n",
       "    </tr>\n",
       "    <tr>\n",
       "      <th>1</th>\n",
       "      <td>1214667391206141957</td>\n",
       "      <td>{'hashtags': [{'start': 57, 'end': 63, 'tag': ...</td>\n",
       "      <td>827863696416321537</td>\n",
       "      <td>2020-01-07T21:57:28.000Z</td>\n",
       "      <td>RT @Maximeks042: Today I witnesses brutality i...</td>\n",
       "      <td>en</td>\n",
       "      <td>False</td>\n",
       "      <td>[{'type': 'retweeted', 'id': '1213427724636819...</td>\n",
       "      <td>{'retweet_count': 222, 'reply_count': 0, 'like...</td>\n",
       "      <td>NaN</td>\n",
       "      <td>...</td>\n",
       "      <td>emeriaemmanuel</td>\n",
       "      <td>False</td>\n",
       "      <td>Chukwuemeria</td>\n",
       "      <td></td>\n",
       "      <td></td>\n",
       "      <td></td>\n",
       "      <td>39.0</td>\n",
       "      <td>384.0</td>\n",
       "      <td>2154.0</td>\n",
       "      <td>0.0</td>\n",
       "    </tr>\n",
       "    <tr>\n",
       "      <th>2</th>\n",
       "      <td>1214648097919447040</td>\n",
       "      <td>{'hashtags': [{'start': 57, 'end': 63, 'tag': ...</td>\n",
       "      <td>3344738026</td>\n",
       "      <td>2020-01-07T20:40:48.000Z</td>\n",
       "      <td>RT @Maximeks042: Today I witnesses brutality i...</td>\n",
       "      <td>en</td>\n",
       "      <td>False</td>\n",
       "      <td>[{'type': 'retweeted', 'id': '1213427724636819...</td>\n",
       "      <td>{'retweet_count': 222, 'reply_count': 0, 'like...</td>\n",
       "      <td>NaN</td>\n",
       "      <td>...</td>\n",
       "      <td>EkpereNwankwo</td>\n",
       "      <td>False</td>\n",
       "      <td>Ekpere Nwankwo</td>\n",
       "      <td></td>\n",
       "      <td></td>\n",
       "      <td></td>\n",
       "      <td>5827.0</td>\n",
       "      <td>4772.0</td>\n",
       "      <td>316438.0</td>\n",
       "      <td>156.0</td>\n",
       "    </tr>\n",
       "    <tr>\n",
       "      <th>3</th>\n",
       "      <td>1214638748580884480</td>\n",
       "      <td>{'mentions': [{'start': 3, 'end': 18, 'usernam...</td>\n",
       "      <td>954711989842010112</td>\n",
       "      <td>2020-01-07T20:03:39.000Z</td>\n",
       "      <td>RT @DrOlufunmilayo: VERY URGENT:\\nSince 2017, ...</td>\n",
       "      <td>en</td>\n",
       "      <td>False</td>\n",
       "      <td>[{'type': 'retweeted', 'id': '1205787583000829...</td>\n",
       "      <td>{'retweet_count': 986, 'reply_count': 0, 'like...</td>\n",
       "      <td>NaN</td>\n",
       "      <td>...</td>\n",
       "      <td>ALegalEssence</td>\n",
       "      <td>False</td>\n",
       "      <td>Your TaiLaw</td>\n",
       "      <td>Lagos Nigeria</td>\n",
       "      <td>Lagos Nigeria</td>\n",
       "      <td>Lagos Nigeria</td>\n",
       "      <td>867.0</td>\n",
       "      <td>1372.0</td>\n",
       "      <td>3505.0</td>\n",
       "      <td>0.0</td>\n",
       "    </tr>\n",
       "    <tr>\n",
       "      <th>4</th>\n",
       "      <td>1214629356858937344</td>\n",
       "      <td>{'annotations': [{'start': 134, 'end': 144, 'p...</td>\n",
       "      <td>313725796</td>\n",
       "      <td>2020-01-07T19:26:20.000Z</td>\n",
       "      <td>So after they made people’s parents wear costu...</td>\n",
       "      <td>en</td>\n",
       "      <td>False</td>\n",
       "      <td>NaN</td>\n",
       "      <td>{'retweet_count': 0, 'reply_count': 0, 'like_c...</td>\n",
       "      <td>NaN</td>\n",
       "      <td>...</td>\n",
       "      <td>TheMercyWhite</td>\n",
       "      <td>False</td>\n",
       "      <td>Ify</td>\n",
       "      <td>Abuja</td>\n",
       "      <td>Abuja</td>\n",
       "      <td>Abuja</td>\n",
       "      <td>1677.0</td>\n",
       "      <td>379.0</td>\n",
       "      <td>31185.0</td>\n",
       "      <td>9.0</td>\n",
       "    </tr>\n",
       "  </tbody>\n",
       "</table>\n",
       "<p>5 rows × 38 columns</p>\n",
       "</div>"
      ],
      "text/plain": [
       "                    id                                           entities  \\\n",
       "0  1214674154991042560  {'hashtags': [{'start': 57, 'end': 63, 'tag': ...   \n",
       "1  1214667391206141957  {'hashtags': [{'start': 57, 'end': 63, 'tag': ...   \n",
       "2  1214648097919447040  {'hashtags': [{'start': 57, 'end': 63, 'tag': ...   \n",
       "3  1214638748580884480  {'mentions': [{'start': 3, 'end': 18, 'usernam...   \n",
       "4  1214629356858937344  {'annotations': [{'start': 134, 'end': 144, 'p...   \n",
       "\n",
       "            author_id              created_at_x  \\\n",
       "0  782957256434409472  2020-01-07T22:24:20.000Z   \n",
       "1  827863696416321537  2020-01-07T21:57:28.000Z   \n",
       "2          3344738026  2020-01-07T20:40:48.000Z   \n",
       "3  954711989842010112  2020-01-07T20:03:39.000Z   \n",
       "4           313725796  2020-01-07T19:26:20.000Z   \n",
       "\n",
       "                                                text lang possibly_sensitive  \\\n",
       "0  RT @Maximeks042: Today I witnesses brutality i...   en              False   \n",
       "1  RT @Maximeks042: Today I witnesses brutality i...   en              False   \n",
       "2  RT @Maximeks042: Today I witnesses brutality i...   en              False   \n",
       "3  RT @DrOlufunmilayo: VERY URGENT:\\nSince 2017, ...   en              False   \n",
       "4  So after they made people’s parents wear costu...   en              False   \n",
       "\n",
       "                                   referenced_tweets  \\\n",
       "0  [{'type': 'retweeted', 'id': '1213427724636819...   \n",
       "1  [{'type': 'retweeted', 'id': '1213427724636819...   \n",
       "2  [{'type': 'retweeted', 'id': '1213427724636819...   \n",
       "3  [{'type': 'retweeted', 'id': '1205787583000829...   \n",
       "4                                                NaN   \n",
       "\n",
       "                                    public_metrics_x  geo  ...  \\\n",
       "0  {'retweet_count': 222, 'reply_count': 0, 'like...  NaN  ...   \n",
       "1  {'retweet_count': 222, 'reply_count': 0, 'like...  NaN  ...   \n",
       "2  {'retweet_count': 222, 'reply_count': 0, 'like...  NaN  ...   \n",
       "3  {'retweet_count': 986, 'reply_count': 0, 'like...  NaN  ...   \n",
       "4  {'retweet_count': 0, 'reply_count': 0, 'like_c...  NaN  ...   \n",
       "\n",
       "         username verified            name        location            City  \\\n",
       "0        Johniky5    False        John iky                                   \n",
       "1  emeriaemmanuel    False    Chukwuemeria                                   \n",
       "2   EkpereNwankwo    False  Ekpere Nwankwo                                   \n",
       "3   ALegalEssence    False     Your TaiLaw  Lagos Nigeria   Lagos Nigeria    \n",
       "4   TheMercyWhite    False             Ify           Abuja           Abuja   \n",
       "\n",
       "          Country  public_metric_followers_count  \\\n",
       "0                                         6814.0   \n",
       "1                                           39.0   \n",
       "2                                         5827.0   \n",
       "3  Lagos Nigeria                           867.0   \n",
       "4           Abuja                         1677.0   \n",
       "\n",
       "  public_metric_following_count public_metric_tweet_count  \\\n",
       "0                        5226.0                  406196.0   \n",
       "1                         384.0                    2154.0   \n",
       "2                        4772.0                  316438.0   \n",
       "3                        1372.0                    3505.0   \n",
       "4                         379.0                   31185.0   \n",
       "\n",
       "   public_metric_listed_count  \n",
       "0                        44.0  \n",
       "1                         0.0  \n",
       "2                       156.0  \n",
       "3                         0.0  \n",
       "4                         9.0  \n",
       "\n",
       "[5 rows x 38 columns]"
      ]
     },
     "execution_count": 7,
     "metadata": {},
     "output_type": "execute_result"
    }
   ],
   "source": [
    "df2.head()"
   ]
  },
  {
   "cell_type": "code",
   "execution_count": 8,
   "metadata": {},
   "outputs": [
    {
     "name": "stdout",
     "output_type": "stream",
     "text": [
      "<class 'pandas.core.frame.DataFrame'>\n",
      "Int64Index: 59738 entries, 0 to 59737\n",
      "Data columns (total 38 columns):\n",
      " #   Column                         Non-Null Count  Dtype  \n",
      "---  ------                         --------------  -----  \n",
      " 0   id                             58436 non-null  object \n",
      " 1   entities                       57843 non-null  object \n",
      " 2   author_id                      58436 non-null  object \n",
      " 3   created_at_x                   58436 non-null  object \n",
      " 4   text                           58436 non-null  object \n",
      " 5   lang                           58436 non-null  object \n",
      " 6   possibly_sensitive             58436 non-null  object \n",
      " 7   referenced_tweets              54429 non-null  object \n",
      " 8   public_metrics_x               58436 non-null  object \n",
      " 9   geo                            363 non-null    object \n",
      " 10  in_reply_to_user_id            2380 non-null   object \n",
      " 11  users                          651 non-null    object \n",
      " 12  tweets                         651 non-null    object \n",
      " 13  places                         235 non-null    object \n",
      " 14  newest_id                      651 non-null    object \n",
      " 15  oldest_id                      651 non-null    object \n",
      " 16  result_count                   651 non-null    float64\n",
      " 17  next_token                     642 non-null    object \n",
      " 18  withheld                       2 non-null      object \n",
      " 19  public_metric_retweet_count    58436 non-null  float64\n",
      " 20  public_metric_reply_count      58436 non-null  float64\n",
      " 21  public_metric_like_count       58436 non-null  float64\n",
      " 22  public_metric_quote_count      58436 non-null  float64\n",
      " 23  hashtags                       27164 non-null  object \n",
      " 24  mentions                       51783 non-null  object \n",
      " 25  description                    58370 non-null  object \n",
      " 26  created_at_y                   58370 non-null  object \n",
      " 27  public_metrics_y               58370 non-null  object \n",
      " 28  username                       58370 non-null  object \n",
      " 29  verified                       58370 non-null  object \n",
      " 30  name                           58370 non-null  object \n",
      " 31  location                       58370 non-null  object \n",
      " 32  City                           58370 non-null  object \n",
      " 33  Country                        58370 non-null  object \n",
      " 34  public_metric_followers_count  58370 non-null  float64\n",
      " 35  public_metric_following_count  58370 non-null  float64\n",
      " 36  public_metric_tweet_count      58370 non-null  float64\n",
      " 37  public_metric_listed_count     58370 non-null  float64\n",
      "dtypes: float64(9), object(29)\n",
      "memory usage: 17.8+ MB\n"
     ]
    }
   ],
   "source": [
    "df2.info()"
   ]
  },
  {
   "cell_type": "code",
   "execution_count": 9,
   "metadata": {},
   "outputs": [
    {
     "data": {
      "text/plain": [
       "Index(['id', 'entities', 'author_id', 'created_at_x', 'text', 'lang',\n",
       "       'possibly_sensitive', 'referenced_tweets', 'public_metrics_x', 'geo',\n",
       "       'in_reply_to_user_id', 'users', 'tweets', 'places', 'newest_id',\n",
       "       'oldest_id', 'result_count', 'next_token', 'withheld',\n",
       "       'public_metric_retweet_count', 'public_metric_reply_count',\n",
       "       'public_metric_like_count', 'public_metric_quote_count', 'hashtags',\n",
       "       'mentions', 'description', 'created_at_y', 'public_metrics_y',\n",
       "       'username', 'verified', 'name', 'location', 'City', 'Country',\n",
       "       'public_metric_followers_count', 'public_metric_following_count',\n",
       "       'public_metric_tweet_count', 'public_metric_listed_count'],\n",
       "      dtype='object')"
      ]
     },
     "execution_count": 9,
     "metadata": {},
     "output_type": "execute_result"
    }
   ],
   "source": [
    "df2.columns\n"
   ]
  },
  {
   "cell_type": "code",
   "execution_count": 10,
   "metadata": {},
   "outputs": [],
   "source": [
    "df2.rename(columns = {'created_at_x':'tweets_created_at','public_metric_retweet_count':'retweet_count','public_metric_reply_count':'reply_count','public_metric_like_count': 'like_count',\n",
    "                        'public_metric_quote_count':'quote_count','public_metric_result_count':'result_count','Country':'users_location','public_metric_followers_count':'followers_count',\n",
    "                           'public_metric_following_count':'following_count','public_metric_tweet_count':'tweet_count','public_metric_listed_count':\n",
    "                           'listed_count'},inplace = True)\n",
    "\n",
    "\n"
   ]
  },
  {
   "cell_type": "code",
   "execution_count": 11,
   "metadata": {},
   "outputs": [
    {
     "data": {
      "text/plain": [
       "Index(['id', 'entities', 'author_id', 'tweets_created_at', 'text', 'lang',\n",
       "       'possibly_sensitive', 'referenced_tweets', 'public_metrics_x', 'geo',\n",
       "       'in_reply_to_user_id', 'users', 'tweets', 'places', 'newest_id',\n",
       "       'oldest_id', 'result_count', 'next_token', 'withheld', 'retweet_count',\n",
       "       'reply_count', 'like_count', 'quote_count', 'hashtags', 'mentions',\n",
       "       'description', 'created_at_y', 'public_metrics_y', 'username',\n",
       "       'verified', 'name', 'location', 'City', 'users_location',\n",
       "       'followers_count', 'following_count', 'tweet_count', 'listed_count'],\n",
       "      dtype='object')"
      ]
     },
     "execution_count": 11,
     "metadata": {},
     "output_type": "execute_result"
    }
   ],
   "source": [
    "df2.columns"
   ]
  },
  {
   "cell_type": "code",
   "execution_count": 12,
   "metadata": {},
   "outputs": [
    {
     "ename": "SyntaxError",
     "evalue": "unexpected EOF while parsing (<ipython-input-12-4efedc38cfca>, line 1)",
     "output_type": "error",
     "traceback": [
      "\u001b[1;36m  File \u001b[1;32m\"<ipython-input-12-4efedc38cfca>\"\u001b[1;36m, line \u001b[1;32m1\u001b[0m\n\u001b[1;33m    df2.rename(columns = {'created_at_y':'users_created_at','public_metric_retweet_count':'retweet_count','public_metric_reply_count':'reply_count','public_metric_like_count': 'like_count',\u001b[0m\n\u001b[1;37m                                                                                                                                                                                             ^\u001b[0m\n\u001b[1;31mSyntaxError\u001b[0m\u001b[1;31m:\u001b[0m unexpected EOF while parsing\n"
     ]
    }
   ],
   "source": [
    "df2.rename(columns = {'created_at_y':'users_created_at','public_metric_retweet_count':'retweet_count','public_metric_reply_count':'reply_count','public_metric_like_count': 'like_count',\n"
   ]
  },
  {
   "cell_type": "code",
   "execution_count": null,
   "metadata": {},
   "outputs": [],
   "source": [
    "df2.rename(columns = {'created_at_x':'tweets_created_at','public_metric_retweet_count':'retweet_count','public_metric_reply_count':'reply_count','public_metric_like_count': 'like_count',\n"
   ]
  },
  {
   "cell_type": "code",
   "execution_count": null,
   "metadata": {},
   "outputs": [],
   "source": [
    "df.drop(df.columns[[0, 4, 2]], axis = 1, inplace = True)\n"
   ]
  },
  {
   "cell_type": "code",
   "execution_count": null,
   "metadata": {},
   "outputs": [],
   "source": [
    "df2.drop(['places','withheld','public_metrics_x','public_metrics_y'], axis=1, inplace = True)\n"
   ]
  },
  {
   "cell_type": "code",
   "execution_count": null,
   "metadata": {},
   "outputs": [],
   "source": [
    "df2.columns"
   ]
  },
  {
   "cell_type": "code",
   "execution_count": null,
   "metadata": {},
   "outputs": [],
   "source": [
    "df2.rename(columns = {'created_at_y':'users_created_at'})\n"
   ]
  },
  {
   "cell_type": "code",
   "execution_count": null,
   "metadata": {},
   "outputs": [],
   "source": [
    "dataf.to_pickle(\"data_combined.pkl\")\n"
   ]
  },
  {
   "cell_type": "code",
   "execution_count": 14,
   "metadata": {},
   "outputs": [],
   "source": [
    "df2.to_pickle('endsars_tweets_Adebesin_Adedayo_JAN_1ST_TO_MARCH31ST_2020.pkl')"
   ]
  },
  {
   "cell_type": "code",
   "execution_count": null,
   "metadata": {},
   "outputs": [],
   "source": [
    "df2"
   ]
  },
  {
   "cell_type": "code",
   "execution_count": 7,
   "metadata": {},
   "outputs": [],
   "source": [
    "dataframe=pd.read_pickle('endsars_tweets_Adebesin_Adedayo_JAN_1ST_TO_MARCH31ST_2020.pkl')"
   ]
  },
  {
   "cell_type": "code",
   "execution_count": 8,
   "metadata": {},
   "outputs": [
    {
     "data": {
      "text/html": [
       "<div>\n",
       "<style scoped>\n",
       "    .dataframe tbody tr th:only-of-type {\n",
       "        vertical-align: middle;\n",
       "    }\n",
       "\n",
       "    .dataframe tbody tr th {\n",
       "        vertical-align: top;\n",
       "    }\n",
       "\n",
       "    .dataframe thead th {\n",
       "        text-align: right;\n",
       "    }\n",
       "</style>\n",
       "<table border=\"1\" class=\"dataframe\">\n",
       "  <thead>\n",
       "    <tr style=\"text-align: right;\">\n",
       "      <th></th>\n",
       "      <th>id</th>\n",
       "      <th>entities</th>\n",
       "      <th>author_id</th>\n",
       "      <th>tweets_created_at</th>\n",
       "      <th>text</th>\n",
       "      <th>lang</th>\n",
       "      <th>possibly_sensitive</th>\n",
       "      <th>referenced_tweets</th>\n",
       "      <th>public_metrics_x</th>\n",
       "      <th>geo</th>\n",
       "      <th>...</th>\n",
       "      <th>username</th>\n",
       "      <th>verified</th>\n",
       "      <th>name</th>\n",
       "      <th>location</th>\n",
       "      <th>City</th>\n",
       "      <th>users_location</th>\n",
       "      <th>followers_count</th>\n",
       "      <th>following_count</th>\n",
       "      <th>tweet_count</th>\n",
       "      <th>listed_count</th>\n",
       "    </tr>\n",
       "  </thead>\n",
       "  <tbody>\n",
       "    <tr>\n",
       "      <th>0</th>\n",
       "      <td>1214674154991042560</td>\n",
       "      <td>{'hashtags': [{'start': 57, 'end': 63, 'tag': ...</td>\n",
       "      <td>782957256434409472</td>\n",
       "      <td>2020-01-07T22:24:20.000Z</td>\n",
       "      <td>RT @Maximeks042: Today I witnesses brutality i...</td>\n",
       "      <td>en</td>\n",
       "      <td>False</td>\n",
       "      <td>[{'type': 'retweeted', 'id': '1213427724636819...</td>\n",
       "      <td>{'retweet_count': 222, 'reply_count': 0, 'like...</td>\n",
       "      <td>NaN</td>\n",
       "      <td>...</td>\n",
       "      <td>Johniky5</td>\n",
       "      <td>False</td>\n",
       "      <td>John iky</td>\n",
       "      <td></td>\n",
       "      <td></td>\n",
       "      <td></td>\n",
       "      <td>6814.0</td>\n",
       "      <td>5226.0</td>\n",
       "      <td>406196.0</td>\n",
       "      <td>44.0</td>\n",
       "    </tr>\n",
       "    <tr>\n",
       "      <th>1</th>\n",
       "      <td>1214667391206141957</td>\n",
       "      <td>{'hashtags': [{'start': 57, 'end': 63, 'tag': ...</td>\n",
       "      <td>827863696416321537</td>\n",
       "      <td>2020-01-07T21:57:28.000Z</td>\n",
       "      <td>RT @Maximeks042: Today I witnesses brutality i...</td>\n",
       "      <td>en</td>\n",
       "      <td>False</td>\n",
       "      <td>[{'type': 'retweeted', 'id': '1213427724636819...</td>\n",
       "      <td>{'retweet_count': 222, 'reply_count': 0, 'like...</td>\n",
       "      <td>NaN</td>\n",
       "      <td>...</td>\n",
       "      <td>emeriaemmanuel</td>\n",
       "      <td>False</td>\n",
       "      <td>Chukwuemeria</td>\n",
       "      <td></td>\n",
       "      <td></td>\n",
       "      <td></td>\n",
       "      <td>39.0</td>\n",
       "      <td>384.0</td>\n",
       "      <td>2154.0</td>\n",
       "      <td>0.0</td>\n",
       "    </tr>\n",
       "    <tr>\n",
       "      <th>2</th>\n",
       "      <td>1214648097919447040</td>\n",
       "      <td>{'hashtags': [{'start': 57, 'end': 63, 'tag': ...</td>\n",
       "      <td>3344738026</td>\n",
       "      <td>2020-01-07T20:40:48.000Z</td>\n",
       "      <td>RT @Maximeks042: Today I witnesses brutality i...</td>\n",
       "      <td>en</td>\n",
       "      <td>False</td>\n",
       "      <td>[{'type': 'retweeted', 'id': '1213427724636819...</td>\n",
       "      <td>{'retweet_count': 222, 'reply_count': 0, 'like...</td>\n",
       "      <td>NaN</td>\n",
       "      <td>...</td>\n",
       "      <td>EkpereNwankwo</td>\n",
       "      <td>False</td>\n",
       "      <td>Ekpere Nwankwo</td>\n",
       "      <td></td>\n",
       "      <td></td>\n",
       "      <td></td>\n",
       "      <td>5827.0</td>\n",
       "      <td>4772.0</td>\n",
       "      <td>316438.0</td>\n",
       "      <td>156.0</td>\n",
       "    </tr>\n",
       "    <tr>\n",
       "      <th>3</th>\n",
       "      <td>1214638748580884480</td>\n",
       "      <td>{'mentions': [{'start': 3, 'end': 18, 'usernam...</td>\n",
       "      <td>954711989842010112</td>\n",
       "      <td>2020-01-07T20:03:39.000Z</td>\n",
       "      <td>RT @DrOlufunmilayo: VERY URGENT:\\nSince 2017, ...</td>\n",
       "      <td>en</td>\n",
       "      <td>False</td>\n",
       "      <td>[{'type': 'retweeted', 'id': '1205787583000829...</td>\n",
       "      <td>{'retweet_count': 986, 'reply_count': 0, 'like...</td>\n",
       "      <td>NaN</td>\n",
       "      <td>...</td>\n",
       "      <td>ALegalEssence</td>\n",
       "      <td>False</td>\n",
       "      <td>Your TaiLaw</td>\n",
       "      <td>Lagos Nigeria</td>\n",
       "      <td>Lagos Nigeria</td>\n",
       "      <td>Lagos Nigeria</td>\n",
       "      <td>867.0</td>\n",
       "      <td>1372.0</td>\n",
       "      <td>3505.0</td>\n",
       "      <td>0.0</td>\n",
       "    </tr>\n",
       "    <tr>\n",
       "      <th>4</th>\n",
       "      <td>1214629356858937344</td>\n",
       "      <td>{'annotations': [{'start': 134, 'end': 144, 'p...</td>\n",
       "      <td>313725796</td>\n",
       "      <td>2020-01-07T19:26:20.000Z</td>\n",
       "      <td>So after they made people’s parents wear costu...</td>\n",
       "      <td>en</td>\n",
       "      <td>False</td>\n",
       "      <td>NaN</td>\n",
       "      <td>{'retweet_count': 0, 'reply_count': 0, 'like_c...</td>\n",
       "      <td>NaN</td>\n",
       "      <td>...</td>\n",
       "      <td>TheMercyWhite</td>\n",
       "      <td>False</td>\n",
       "      <td>Ify</td>\n",
       "      <td>Abuja</td>\n",
       "      <td>Abuja</td>\n",
       "      <td>Abuja</td>\n",
       "      <td>1677.0</td>\n",
       "      <td>379.0</td>\n",
       "      <td>31185.0</td>\n",
       "      <td>9.0</td>\n",
       "    </tr>\n",
       "  </tbody>\n",
       "</table>\n",
       "<p>5 rows × 38 columns</p>\n",
       "</div>"
      ],
      "text/plain": [
       "                    id                                           entities  \\\n",
       "0  1214674154991042560  {'hashtags': [{'start': 57, 'end': 63, 'tag': ...   \n",
       "1  1214667391206141957  {'hashtags': [{'start': 57, 'end': 63, 'tag': ...   \n",
       "2  1214648097919447040  {'hashtags': [{'start': 57, 'end': 63, 'tag': ...   \n",
       "3  1214638748580884480  {'mentions': [{'start': 3, 'end': 18, 'usernam...   \n",
       "4  1214629356858937344  {'annotations': [{'start': 134, 'end': 144, 'p...   \n",
       "\n",
       "            author_id         tweets_created_at  \\\n",
       "0  782957256434409472  2020-01-07T22:24:20.000Z   \n",
       "1  827863696416321537  2020-01-07T21:57:28.000Z   \n",
       "2          3344738026  2020-01-07T20:40:48.000Z   \n",
       "3  954711989842010112  2020-01-07T20:03:39.000Z   \n",
       "4           313725796  2020-01-07T19:26:20.000Z   \n",
       "\n",
       "                                                text lang possibly_sensitive  \\\n",
       "0  RT @Maximeks042: Today I witnesses brutality i...   en              False   \n",
       "1  RT @Maximeks042: Today I witnesses brutality i...   en              False   \n",
       "2  RT @Maximeks042: Today I witnesses brutality i...   en              False   \n",
       "3  RT @DrOlufunmilayo: VERY URGENT:\\nSince 2017, ...   en              False   \n",
       "4  So after they made people’s parents wear costu...   en              False   \n",
       "\n",
       "                                   referenced_tweets  \\\n",
       "0  [{'type': 'retweeted', 'id': '1213427724636819...   \n",
       "1  [{'type': 'retweeted', 'id': '1213427724636819...   \n",
       "2  [{'type': 'retweeted', 'id': '1213427724636819...   \n",
       "3  [{'type': 'retweeted', 'id': '1205787583000829...   \n",
       "4                                                NaN   \n",
       "\n",
       "                                    public_metrics_x  geo  ...  \\\n",
       "0  {'retweet_count': 222, 'reply_count': 0, 'like...  NaN  ...   \n",
       "1  {'retweet_count': 222, 'reply_count': 0, 'like...  NaN  ...   \n",
       "2  {'retweet_count': 222, 'reply_count': 0, 'like...  NaN  ...   \n",
       "3  {'retweet_count': 986, 'reply_count': 0, 'like...  NaN  ...   \n",
       "4  {'retweet_count': 0, 'reply_count': 0, 'like_c...  NaN  ...   \n",
       "\n",
       "         username verified            name        location            City  \\\n",
       "0        Johniky5    False        John iky                                   \n",
       "1  emeriaemmanuel    False    Chukwuemeria                                   \n",
       "2   EkpereNwankwo    False  Ekpere Nwankwo                                   \n",
       "3   ALegalEssence    False     Your TaiLaw  Lagos Nigeria   Lagos Nigeria    \n",
       "4   TheMercyWhite    False             Ify           Abuja           Abuja   \n",
       "\n",
       "   users_location  followers_count following_count tweet_count  listed_count  \n",
       "0                           6814.0          5226.0    406196.0          44.0  \n",
       "1                             39.0           384.0      2154.0           0.0  \n",
       "2                           5827.0          4772.0    316438.0         156.0  \n",
       "3  Lagos Nigeria             867.0          1372.0      3505.0           0.0  \n",
       "4           Abuja           1677.0           379.0     31185.0           9.0  \n",
       "\n",
       "[5 rows x 38 columns]"
      ]
     },
     "execution_count": 8,
     "metadata": {},
     "output_type": "execute_result"
    }
   ],
   "source": [
    "dataframe.head()"
   ]
  },
  {
   "cell_type": "code",
   "execution_count": 25,
   "metadata": {},
   "outputs": [
    {
     "data": {
      "text/plain": [
       "dtype('O')"
      ]
     },
     "execution_count": 25,
     "metadata": {},
     "output_type": "execute_result"
    }
   ],
   "source": [
    "dataframe['tweets_created_at'].dtype"
   ]
  },
  {
   "cell_type": "code",
   "execution_count": 30,
   "metadata": {},
   "outputs": [
    {
     "data": {
      "text/plain": [
       "'2020-01-07T22:24:20.000Z'"
      ]
     },
     "execution_count": 30,
     "metadata": {},
     "output_type": "execute_result"
    }
   ],
   "source": [
    "dataframe['tweets_created_at'].iloc[0]"
   ]
  },
  {
   "cell_type": "code",
   "execution_count": null,
   "metadata": {},
   "outputs": [],
   "source": []
  },
  {
   "cell_type": "code",
   "execution_count": 49,
   "metadata": {},
   "outputs": [
    {
     "name": "stdout",
     "output_type": "stream",
     "text": [
      "<re.Match object; span=(0, 9), match='2020-01-0'>\n"
     ]
    }
   ],
   "source": [
    "sentence = '2020-01-07T22:24:20.000Z'\n",
    "import re\n",
    "pattern = re.compile(r'\\d\\d\\d\\d.\\d\\d.\\d')\n",
    "matches = pattern.finditer(sentence)\n",
    "for match in matches:\n",
    "    print(match)"
   ]
  },
  {
   "cell_type": "code",
   "execution_count": 33,
   "metadata": {},
   "outputs": [
    {
     "name": "stdout",
     "output_type": "stream",
     "text": [
      "2020\n"
     ]
    }
   ],
   "source": [
    "print(sentence[:4])"
   ]
  },
  {
   "cell_type": "code",
   "execution_count": 13,
   "metadata": {},
   "outputs": [
    {
     "data": {
      "text/plain": [
       "'2020-01-07T22:24:20.000Z'"
      ]
     },
     "execution_count": 13,
     "metadata": {},
     "output_type": "execute_result"
    }
   ],
   "source": [
    "dataframe['tweets_created_at'].iloc[0]"
   ]
  },
  {
   "cell_type": "code",
   "execution_count": 29,
   "metadata": {},
   "outputs": [
    {
     "ename": "ValueError",
     "evalue": "time data '2020-01-07T22:24:20.000Z' does not match format '%y%m%d' (match)",
     "output_type": "error",
     "traceback": [
      "\u001b[1;31m---------------------------------------------------------------------------\u001b[0m",
      "\u001b[1;31mTypeError\u001b[0m                                 Traceback (most recent call last)",
      "\u001b[1;32m~\\anaconda3\\envs\\endsarsproject\\lib\\site-packages\\pandas\\core\\tools\\datetimes.py\u001b[0m in \u001b[0;36m_convert_listlike_datetimes\u001b[1;34m(arg, format, name, tz, unit, errors, infer_datetime_format, dayfirst, yearfirst, exact)\u001b[0m\n\u001b[0;32m    455\u001b[0m             \u001b[1;32mtry\u001b[0m\u001b[1;33m:\u001b[0m\u001b[1;33m\u001b[0m\u001b[1;33m\u001b[0m\u001b[0m\n\u001b[1;32m--> 456\u001b[1;33m                 \u001b[0mvalues\u001b[0m\u001b[1;33m,\u001b[0m \u001b[0mtz\u001b[0m \u001b[1;33m=\u001b[0m \u001b[0mconversion\u001b[0m\u001b[1;33m.\u001b[0m\u001b[0mdatetime_to_datetime64\u001b[0m\u001b[1;33m(\u001b[0m\u001b[0marg\u001b[0m\u001b[1;33m)\u001b[0m\u001b[1;33m\u001b[0m\u001b[1;33m\u001b[0m\u001b[0m\n\u001b[0m\u001b[0;32m    457\u001b[0m                 \u001b[0mdta\u001b[0m \u001b[1;33m=\u001b[0m \u001b[0mDatetimeArray\u001b[0m\u001b[1;33m(\u001b[0m\u001b[0mvalues\u001b[0m\u001b[1;33m,\u001b[0m \u001b[0mdtype\u001b[0m\u001b[1;33m=\u001b[0m\u001b[0mtz_to_dtype\u001b[0m\u001b[1;33m(\u001b[0m\u001b[0mtz\u001b[0m\u001b[1;33m)\u001b[0m\u001b[1;33m)\u001b[0m\u001b[1;33m\u001b[0m\u001b[1;33m\u001b[0m\u001b[0m\n",
      "\u001b[1;32mpandas\\_libs\\tslibs\\conversion.pyx\u001b[0m in \u001b[0;36mpandas._libs.tslibs.conversion.datetime_to_datetime64\u001b[1;34m()\u001b[0m\n",
      "\u001b[1;31mTypeError\u001b[0m: Unrecognized value type: <class 'str'>",
      "\nDuring handling of the above exception, another exception occurred:\n",
      "\u001b[1;31mValueError\u001b[0m                                Traceback (most recent call last)",
      "\u001b[1;32m<ipython-input-29-9510f2788b6f>\u001b[0m in \u001b[0;36m<module>\u001b[1;34m\u001b[0m\n\u001b[1;32m----> 1\u001b[1;33m \u001b[0mdataframe\u001b[0m\u001b[1;33m[\u001b[0m\u001b[1;34m'tweets_created_at'\u001b[0m\u001b[1;33m]\u001b[0m \u001b[1;33m=\u001b[0m \u001b[0mpd\u001b[0m\u001b[1;33m.\u001b[0m\u001b[0mto_datetime\u001b[0m\u001b[1;33m(\u001b[0m\u001b[0mdataframe\u001b[0m\u001b[1;33m[\u001b[0m\u001b[1;34m'tweets_created_at'\u001b[0m\u001b[1;33m]\u001b[0m\u001b[1;33m,\u001b[0m \u001b[0mformat\u001b[0m\u001b[1;33m=\u001b[0m\u001b[1;34m'%y%m%d'\u001b[0m\u001b[1;33m)\u001b[0m\u001b[1;33m\u001b[0m\u001b[1;33m\u001b[0m\u001b[0m\n\u001b[0m",
      "\u001b[1;32m~\\anaconda3\\envs\\endsarsproject\\lib\\site-packages\\pandas\\core\\tools\\datetimes.py\u001b[0m in \u001b[0;36mto_datetime\u001b[1;34m(arg, errors, dayfirst, yearfirst, utc, format, exact, unit, infer_datetime_format, origin, cache)\u001b[0m\n\u001b[0;32m    803\u001b[0m             \u001b[0mresult\u001b[0m \u001b[1;33m=\u001b[0m \u001b[0marg\u001b[0m\u001b[1;33m.\u001b[0m\u001b[0mmap\u001b[0m\u001b[1;33m(\u001b[0m\u001b[0mcache_array\u001b[0m\u001b[1;33m)\u001b[0m\u001b[1;33m\u001b[0m\u001b[1;33m\u001b[0m\u001b[0m\n\u001b[0;32m    804\u001b[0m         \u001b[1;32melse\u001b[0m\u001b[1;33m:\u001b[0m\u001b[1;33m\u001b[0m\u001b[1;33m\u001b[0m\u001b[0m\n\u001b[1;32m--> 805\u001b[1;33m             \u001b[0mvalues\u001b[0m \u001b[1;33m=\u001b[0m \u001b[0mconvert_listlike\u001b[0m\u001b[1;33m(\u001b[0m\u001b[0marg\u001b[0m\u001b[1;33m.\u001b[0m\u001b[0m_values\u001b[0m\u001b[1;33m,\u001b[0m \u001b[0mformat\u001b[0m\u001b[1;33m)\u001b[0m\u001b[1;33m\u001b[0m\u001b[1;33m\u001b[0m\u001b[0m\n\u001b[0m\u001b[0;32m    806\u001b[0m             \u001b[0mresult\u001b[0m \u001b[1;33m=\u001b[0m \u001b[0marg\u001b[0m\u001b[1;33m.\u001b[0m\u001b[0m_constructor\u001b[0m\u001b[1;33m(\u001b[0m\u001b[0mvalues\u001b[0m\u001b[1;33m,\u001b[0m \u001b[0mindex\u001b[0m\u001b[1;33m=\u001b[0m\u001b[0marg\u001b[0m\u001b[1;33m.\u001b[0m\u001b[0mindex\u001b[0m\u001b[1;33m,\u001b[0m \u001b[0mname\u001b[0m\u001b[1;33m=\u001b[0m\u001b[0marg\u001b[0m\u001b[1;33m.\u001b[0m\u001b[0mname\u001b[0m\u001b[1;33m)\u001b[0m\u001b[1;33m\u001b[0m\u001b[1;33m\u001b[0m\u001b[0m\n\u001b[0;32m    807\u001b[0m     \u001b[1;32melif\u001b[0m \u001b[0misinstance\u001b[0m\u001b[1;33m(\u001b[0m\u001b[0marg\u001b[0m\u001b[1;33m,\u001b[0m \u001b[1;33m(\u001b[0m\u001b[0mABCDataFrame\u001b[0m\u001b[1;33m,\u001b[0m \u001b[0mabc\u001b[0m\u001b[1;33m.\u001b[0m\u001b[0mMutableMapping\u001b[0m\u001b[1;33m)\u001b[0m\u001b[1;33m)\u001b[0m\u001b[1;33m:\u001b[0m\u001b[1;33m\u001b[0m\u001b[1;33m\u001b[0m\u001b[0m\n",
      "\u001b[1;32m~\\anaconda3\\envs\\endsarsproject\\lib\\site-packages\\pandas\\core\\tools\\datetimes.py\u001b[0m in \u001b[0;36m_convert_listlike_datetimes\u001b[1;34m(arg, format, name, tz, unit, errors, infer_datetime_format, dayfirst, yearfirst, exact)\u001b[0m\n\u001b[0;32m    458\u001b[0m                 \u001b[1;32mreturn\u001b[0m \u001b[0mDatetimeIndex\u001b[0m\u001b[1;33m.\u001b[0m\u001b[0m_simple_new\u001b[0m\u001b[1;33m(\u001b[0m\u001b[0mdta\u001b[0m\u001b[1;33m,\u001b[0m \u001b[0mname\u001b[0m\u001b[1;33m=\u001b[0m\u001b[0mname\u001b[0m\u001b[1;33m)\u001b[0m\u001b[1;33m\u001b[0m\u001b[1;33m\u001b[0m\u001b[0m\n\u001b[0;32m    459\u001b[0m             \u001b[1;32mexcept\u001b[0m \u001b[1;33m(\u001b[0m\u001b[0mValueError\u001b[0m\u001b[1;33m,\u001b[0m \u001b[0mTypeError\u001b[0m\u001b[1;33m)\u001b[0m\u001b[1;33m:\u001b[0m\u001b[1;33m\u001b[0m\u001b[1;33m\u001b[0m\u001b[0m\n\u001b[1;32m--> 460\u001b[1;33m                 \u001b[1;32mraise\u001b[0m \u001b[0me\u001b[0m\u001b[1;33m\u001b[0m\u001b[1;33m\u001b[0m\u001b[0m\n\u001b[0m\u001b[0;32m    461\u001b[0m \u001b[1;33m\u001b[0m\u001b[0m\n\u001b[0;32m    462\u001b[0m     \u001b[1;32mif\u001b[0m \u001b[0mresult\u001b[0m \u001b[1;32mis\u001b[0m \u001b[1;32mNone\u001b[0m\u001b[1;33m:\u001b[0m\u001b[1;33m\u001b[0m\u001b[1;33m\u001b[0m\u001b[0m\n",
      "\u001b[1;32m~\\anaconda3\\envs\\endsarsproject\\lib\\site-packages\\pandas\\core\\tools\\datetimes.py\u001b[0m in \u001b[0;36m_convert_listlike_datetimes\u001b[1;34m(arg, format, name, tz, unit, errors, infer_datetime_format, dayfirst, yearfirst, exact)\u001b[0m\n\u001b[0;32m    422\u001b[0m                 \u001b[1;32mtry\u001b[0m\u001b[1;33m:\u001b[0m\u001b[1;33m\u001b[0m\u001b[1;33m\u001b[0m\u001b[0m\n\u001b[0;32m    423\u001b[0m                     result, timezones = array_strptime(\n\u001b[1;32m--> 424\u001b[1;33m                         \u001b[0marg\u001b[0m\u001b[1;33m,\u001b[0m \u001b[0mformat\u001b[0m\u001b[1;33m,\u001b[0m \u001b[0mexact\u001b[0m\u001b[1;33m=\u001b[0m\u001b[0mexact\u001b[0m\u001b[1;33m,\u001b[0m \u001b[0merrors\u001b[0m\u001b[1;33m=\u001b[0m\u001b[0merrors\u001b[0m\u001b[1;33m\u001b[0m\u001b[1;33m\u001b[0m\u001b[0m\n\u001b[0m\u001b[0;32m    425\u001b[0m                     )\n\u001b[0;32m    426\u001b[0m                     \u001b[1;32mif\u001b[0m \u001b[1;34m\"%Z\"\u001b[0m \u001b[1;32min\u001b[0m \u001b[0mformat\u001b[0m \u001b[1;32mor\u001b[0m \u001b[1;34m\"%z\"\u001b[0m \u001b[1;32min\u001b[0m \u001b[0mformat\u001b[0m\u001b[1;33m:\u001b[0m\u001b[1;33m\u001b[0m\u001b[1;33m\u001b[0m\u001b[0m\n",
      "\u001b[1;32mpandas\\_libs\\tslibs\\strptime.pyx\u001b[0m in \u001b[0;36mpandas._libs.tslibs.strptime.array_strptime\u001b[1;34m()\u001b[0m\n",
      "\u001b[1;31mValueError\u001b[0m: time data '2020-01-07T22:24:20.000Z' does not match format '%y%m%d' (match)"
     ]
    }
   ],
   "source": [
    "dataframe['tweets_created_at'] = pd.to_datetime(dataframe['tweets_created_at'], format='%y%m%d')\n"
   ]
  },
  {
   "cell_type": "code",
   "execution_count": null,
   "metadata": {},
   "outputs": [],
   "source": [
    "first_data_set ="
   ]
  },
  {
   "cell_type": "code",
   "execution_count": null,
   "metadata": {},
   "outputs": [],
   "source": [
    "date_time_obj = datetime.datetime.strptime(date_time_str, '%Y-%m-%d %H:%M:%S.%f')\n"
   ]
  },
  {
   "cell_type": "code",
   "execution_count": 5,
   "metadata": {},
   "outputs": [
    {
     "data": {
      "text/plain": [
       "Index(['id', 'entities', 'author_id', 'tweets_created_at', 'text', 'lang',\n",
       "       'possibly_sensitive', 'referenced_tweets', 'public_metrics_x', 'geo',\n",
       "       'in_reply_to_user_id', 'users', 'tweets', 'places', 'newest_id',\n",
       "       'oldest_id', 'result_count', 'next_token', 'withheld', 'retweet_count',\n",
       "       'reply_count', 'like_count', 'quote_count', 'hashtags', 'mentions',\n",
       "       'description', 'created_at_y', 'public_metrics_y', 'username',\n",
       "       'verified', 'name', 'location', 'City', 'users_location',\n",
       "       'followers_count', 'following_count', 'tweet_count', 'listed_count'],\n",
       "      dtype='object')"
      ]
     },
     "execution_count": 5,
     "metadata": {},
     "output_type": "execute_result"
    }
   ],
   "source": [
    "dataframe.columns"
   ]
  },
  {
   "cell_type": "code",
   "execution_count": 6,
   "metadata": {},
   "outputs": [
    {
     "data": {
      "text/plain": [
       "0        RT @Maximeks042: Today I witnesses brutality i...\n",
       "1        RT @Maximeks042: Today I witnesses brutality i...\n",
       "2        RT @Maximeks042: Today I witnesses brutality i...\n",
       "3        RT @DrOlufunmilayo: VERY URGENT:\\nSince 2017, ...\n",
       "4        So after they made people’s parents wear costu...\n",
       "                               ...                        \n",
       "59733    RT @DrOlufunmilayo: The Army is saying they we...\n",
       "59734    RT @DrOlufunmilayo: Guys if you want any justi...\n",
       "59735        Never Forget #endsars https://t.co/CWpb8wLHXI\n",
       "59736                                                  NaN\n",
       "59737                                                  NaN\n",
       "Name: text, Length: 59738, dtype: object"
      ]
     },
     "execution_count": 6,
     "metadata": {},
     "output_type": "execute_result"
    }
   ],
   "source": [
    "dataframe['text']"
   ]
  },
  {
   "cell_type": "code",
   "execution_count": 42,
   "metadata": {},
   "outputs": [
    {
     "data": {
      "text/plain": [
       "0          [Enugu]\n",
       "1          [Enugu]\n",
       "2          [Enugu]\n",
       "3             None\n",
       "4             None\n",
       "           ...    \n",
       "59733    [EndSARS]\n",
       "59734         None\n",
       "59735    [endsars]\n",
       "59736         None\n",
       "59737         None\n",
       "Name: hashtags, Length: 59738, dtype: object"
      ]
     },
     "execution_count": 42,
     "metadata": {},
     "output_type": "execute_result"
    }
   ],
   "source": [
    "dataframe['hashtags']"
   ]
  },
  {
   "cell_type": "code",
   "execution_count": 15,
   "metadata": {},
   "outputs": [
    {
     "data": {
      "text/plain": [
       "'RT @TheViralTrendz: -- #PoliceBrutality \" @onyezeme This is what we get on our roads on daily basis. @PoliceNG are now snatching people’s p…'"
      ]
     },
     "execution_count": 15,
     "metadata": {},
     "output_type": "execute_result"
    }
   ],
   "source": [
    "dataframe['text'].iloc[500]"
   ]
  },
  {
   "cell_type": "code",
   "execution_count": 18,
   "metadata": {},
   "outputs": [
    {
     "data": {
      "text/plain": [
       "<AxesSubplot:>"
      ]
     },
     "execution_count": 18,
     "metadata": {},
     "output_type": "execute_result"
    },
    {
     "data": {
      "image/png": "[encoded data removed]",
      "text/plain": [
       "<Figure size 1440x864 with 2 Axes>"
      ]
     },
     "metadata": {
      "needs_background": "light"
     },
     "output_type": "display_data"
    }
   ],
   "source": [
    "import matplotlib.pyplot as plt\n",
    "plt.figure(figsize=(20,12))\n",
    "sns.heatmap(dataframe.corr(),annot=True) #annot shows numeric in the plot"
   ]
  },
  {
   "cell_type": "code",
   "execution_count": 5,
   "metadata": {},
   "outputs": [
    {
     "name": "stdout",
     "output_type": "stream",
     "text": [
      "Requirement already satisfied: wordcloud in c:\\users\\user\\anaconda3\\envs\\endsarsproject\\lib\\site-packages (1.8.1)Note: you may need to restart the kernel to use updated packages.\n"
     ]
    },
    {
     "name": "stderr",
     "output_type": "stream",
     "text": [
      "WARNING: You are using pip version 21.0.1; however, version 21.1 is available.\n",
      "You should consider upgrading via the 'C:\\Users\\USER\\anaconda3\\envs\\endsarsproject\\python.exe -m pip install --upgrade pip' command.\n"
     ]
    },
    {
     "name": "stdout",
     "output_type": "stream",
     "text": [
      "\n",
      "Requirement already satisfied: numpy>=1.6.1 in c:\\users\\user\\anaconda3\\envs\\endsarsproject\\lib\\site-packages (from wordcloud) (1.20.2)\n",
      "Requirement already satisfied: pillow in c:\\users\\user\\anaconda3\\envs\\endsarsproject\\lib\\site-packages (from wordcloud) (8.2.0)\n",
      "Requirement already satisfied: matplotlib in c:\\users\\user\\anaconda3\\envs\\endsarsproject\\lib\\site-packages (from wordcloud) (3.4.1)\n",
      "Requirement already satisfied: python-dateutil>=2.7 in c:\\users\\user\\anaconda3\\envs\\endsarsproject\\lib\\site-packages (from matplotlib->wordcloud) (2.8.1)\n",
      "Requirement already satisfied: pyparsing>=2.2.1 in c:\\users\\user\\anaconda3\\envs\\endsarsproject\\lib\\site-packages (from matplotlib->wordcloud) (2.4.7)\n",
      "Requirement already satisfied: kiwisolver>=1.0.1 in c:\\users\\user\\anaconda3\\envs\\endsarsproject\\lib\\site-packages (from matplotlib->wordcloud) (1.3.1)\n",
      "Requirement already satisfied: cycler>=0.10 in c:\\users\\user\\anaconda3\\envs\\endsarsproject\\lib\\site-packages (from matplotlib->wordcloud) (0.10.0)\n",
      "Requirement already satisfied: six in c:\\users\\user\\anaconda3\\envs\\endsarsproject\\lib\\site-packages (from cycler>=0.10->matplotlib->wordcloud) (1.15.0)\n"
     ]
    }
   ],
   "source": [
    "pip install wordcloud\n"
   ]
  },
  {
   "cell_type": "code",
   "execution_count": 9,
   "metadata": {},
   "outputs": [],
   "source": [
    "dataframe.dropna(subset = [\"text\"], inplace=True)\n"
   ]
  },
  {
   "cell_type": "code",
   "execution_count": 10,
   "metadata": {},
   "outputs": [
    {
     "data": {
      "text/plain": [
       "0        RT @Maximeks042: Today I witnesses brutality i...\n",
       "1        RT @Maximeks042: Today I witnesses brutality i...\n",
       "2        RT @Maximeks042: Today I witnesses brutality i...\n",
       "3        RT @DrOlufunmilayo: VERY URGENT:\\nSince 2017, ...\n",
       "4        So after they made people’s parents wear costu...\n",
       "                               ...                        \n",
       "59731    RT @Bopzaddy: This boy has been missing since ...\n",
       "59732    RT @KneWKeeD: The curfew was for 9PM and from ...\n",
       "59733    RT @DrOlufunmilayo: The Army is saying they we...\n",
       "59734    RT @DrOlufunmilayo: Guys if you want any justi...\n",
       "59735        Never Forget #endsars https://t.co/CWpb8wLHXI\n",
       "Name: text, Length: 58436, dtype: object"
      ]
     },
     "execution_count": 10,
     "metadata": {},
     "output_type": "execute_result"
    }
   ],
   "source": [
    "dataframe['text']"
   ]
  },
  {
   "cell_type": "code",
   "execution_count": 8,
   "metadata": {},
   "outputs": [
    {
     "data": {
      "text/plain": [
       "'RT @Maximeks042: Today I witnesses brutality in my state #Enugu, for no reason the police officers were virile hitting the young man with t…'"
      ]
     },
     "execution_count": 8,
     "metadata": {},
     "output_type": "execute_result"
    }
   ],
   "source": [
    "dataframe['text'].iloc[0]"
   ]
  },
  {
   "cell_type": "code",
   "execution_count": 20,
   "metadata": {},
   "outputs": [
    {
     "data": {
      "text/plain": [
       "users_location\n",
       "                     6094\n",
       "                       17\n",
       "                        0\n",
       "                        1\n",
       "                        0\n",
       "                     ... \n",
       "🥶 world                 0\n",
       "🦄                       1\n",
       "🦅🆖                      0\n",
       "🦢🦢                      1\n",
       "🪐                       0\n",
       "Name: hashtags, Length: 8582, dtype: int64"
      ]
     },
     "execution_count": 20,
     "metadata": {},
     "output_type": "execute_result"
    }
   ],
   "source": [
    "dataframe.groupby([\"users_location\"])[\"hashtags\"].count()\n"
   ]
  },
  {
   "cell_type": "code",
   "execution_count": 21,
   "metadata": {},
   "outputs": [
    {
     "data": {
      "text/html": [
       "<div>\n",
       "<style scoped>\n",
       "    .dataframe tbody tr th:only-of-type {\n",
       "        vertical-align: middle;\n",
       "    }\n",
       "\n",
       "    .dataframe tbody tr th {\n",
       "        vertical-align: top;\n",
       "    }\n",
       "\n",
       "    .dataframe thead th {\n",
       "        text-align: right;\n",
       "    }\n",
       "</style>\n",
       "<table border=\"1\" class=\"dataframe\">\n",
       "  <thead>\n",
       "    <tr style=\"text-align: right;\">\n",
       "      <th></th>\n",
       "      <th>result_count</th>\n",
       "      <th>retweet_count</th>\n",
       "      <th>reply_count</th>\n",
       "      <th>like_count</th>\n",
       "      <th>quote_count</th>\n",
       "      <th>followers_count</th>\n",
       "      <th>following_count</th>\n",
       "      <th>tweet_count</th>\n",
       "      <th>listed_count</th>\n",
       "    </tr>\n",
       "  </thead>\n",
       "  <tbody>\n",
       "    <tr>\n",
       "      <th>count</th>\n",
       "      <td>0.0</td>\n",
       "      <td>0.0</td>\n",
       "      <td>0.0</td>\n",
       "      <td>0.0</td>\n",
       "      <td>0.0</td>\n",
       "      <td>0.0</td>\n",
       "      <td>0.0</td>\n",
       "      <td>0.0</td>\n",
       "      <td>0.0</td>\n",
       "    </tr>\n",
       "    <tr>\n",
       "      <th>mean</th>\n",
       "      <td>NaN</td>\n",
       "      <td>NaN</td>\n",
       "      <td>NaN</td>\n",
       "      <td>NaN</td>\n",
       "      <td>NaN</td>\n",
       "      <td>NaN</td>\n",
       "      <td>NaN</td>\n",
       "      <td>NaN</td>\n",
       "      <td>NaN</td>\n",
       "    </tr>\n",
       "    <tr>\n",
       "      <th>std</th>\n",
       "      <td>NaN</td>\n",
       "      <td>NaN</td>\n",
       "      <td>NaN</td>\n",
       "      <td>NaN</td>\n",
       "      <td>NaN</td>\n",
       "      <td>NaN</td>\n",
       "      <td>NaN</td>\n",
       "      <td>NaN</td>\n",
       "      <td>NaN</td>\n",
       "    </tr>\n",
       "    <tr>\n",
       "      <th>min</th>\n",
       "      <td>NaN</td>\n",
       "      <td>NaN</td>\n",
       "      <td>NaN</td>\n",
       "      <td>NaN</td>\n",
       "      <td>NaN</td>\n",
       "      <td>NaN</td>\n",
       "      <td>NaN</td>\n",
       "      <td>NaN</td>\n",
       "      <td>NaN</td>\n",
       "    </tr>\n",
       "    <tr>\n",
       "      <th>25%</th>\n",
       "      <td>NaN</td>\n",
       "      <td>NaN</td>\n",
       "      <td>NaN</td>\n",
       "      <td>NaN</td>\n",
       "      <td>NaN</td>\n",
       "      <td>NaN</td>\n",
       "      <td>NaN</td>\n",
       "      <td>NaN</td>\n",
       "      <td>NaN</td>\n",
       "    </tr>\n",
       "    <tr>\n",
       "      <th>50%</th>\n",
       "      <td>NaN</td>\n",
       "      <td>NaN</td>\n",
       "      <td>NaN</td>\n",
       "      <td>NaN</td>\n",
       "      <td>NaN</td>\n",
       "      <td>NaN</td>\n",
       "      <td>NaN</td>\n",
       "      <td>NaN</td>\n",
       "      <td>NaN</td>\n",
       "    </tr>\n",
       "    <tr>\n",
       "      <th>75%</th>\n",
       "      <td>NaN</td>\n",
       "      <td>NaN</td>\n",
       "      <td>NaN</td>\n",
       "      <td>NaN</td>\n",
       "      <td>NaN</td>\n",
       "      <td>NaN</td>\n",
       "      <td>NaN</td>\n",
       "      <td>NaN</td>\n",
       "      <td>NaN</td>\n",
       "    </tr>\n",
       "    <tr>\n",
       "      <th>max</th>\n",
       "      <td>NaN</td>\n",
       "      <td>NaN</td>\n",
       "      <td>NaN</td>\n",
       "      <td>NaN</td>\n",
       "      <td>NaN</td>\n",
       "      <td>NaN</td>\n",
       "      <td>NaN</td>\n",
       "      <td>NaN</td>\n",
       "      <td>NaN</td>\n",
       "    </tr>\n",
       "  </tbody>\n",
       "</table>\n",
       "</div>"
      ],
      "text/plain": [
       "       result_count  retweet_count  reply_count  like_count  quote_count  \\\n",
       "count           0.0            0.0          0.0         0.0          0.0   \n",
       "mean            NaN            NaN          NaN         NaN          NaN   \n",
       "std             NaN            NaN          NaN         NaN          NaN   \n",
       "min             NaN            NaN          NaN         NaN          NaN   \n",
       "25%             NaN            NaN          NaN         NaN          NaN   \n",
       "50%             NaN            NaN          NaN         NaN          NaN   \n",
       "75%             NaN            NaN          NaN         NaN          NaN   \n",
       "max             NaN            NaN          NaN         NaN          NaN   \n",
       "\n",
       "       followers_count  following_count  tweet_count  listed_count  \n",
       "count              0.0              0.0          0.0           0.0  \n",
       "mean               NaN              NaN          NaN           NaN  \n",
       "std                NaN              NaN          NaN           NaN  \n",
       "min                NaN              NaN          NaN           NaN  \n",
       "25%                NaN              NaN          NaN           NaN  \n",
       "50%                NaN              NaN          NaN           NaN  \n",
       "75%                NaN              NaN          NaN           NaN  \n",
       "max                NaN              NaN          NaN           NaN  "
      ]
     },
     "execution_count": 21,
     "metadata": {},
     "output_type": "execute_result"
    }
   ],
   "source": [
    "dataframe.dropna().describe()"
   ]
  },
  {
   "cell_type": "code",
   "execution_count": 23,
   "metadata": {},
   "outputs": [
    {
     "ename": "TypeError",
     "evalue": "no numeric data to plot",
     "output_type": "error",
     "traceback": [
      "\u001b[1;31m---------------------------------------------------------------------------\u001b[0m",
      "\u001b[1;31mTypeError\u001b[0m                                 Traceback (most recent call last)",
      "\u001b[1;32m<ipython-input-23-d29b28be528d>\u001b[0m in \u001b[0;36m<module>\u001b[1;34m\u001b[0m\n\u001b[1;32m----> 1\u001b[1;33m \u001b[0mdataframe\u001b[0m\u001b[1;33m[\u001b[0m\u001b[1;34m\"tweets_created_at\"\u001b[0m\u001b[1;33m]\u001b[0m\u001b[1;33m.\u001b[0m\u001b[0mplot\u001b[0m\u001b[1;33m(\u001b[0m\u001b[1;33m)\u001b[0m\u001b[1;33m\u001b[0m\u001b[1;33m\u001b[0m\u001b[0m\n\u001b[0m",
      "\u001b[1;32m~\\anaconda3\\envs\\endsarsproject\\lib\\site-packages\\pandas\\plotting\\_core.py\u001b[0m in \u001b[0;36m__call__\u001b[1;34m(self, *args, **kwargs)\u001b[0m\n\u001b[0;32m    953\u001b[0m                     \u001b[0mdata\u001b[0m\u001b[1;33m.\u001b[0m\u001b[0mcolumns\u001b[0m \u001b[1;33m=\u001b[0m \u001b[0mlabel_name\u001b[0m\u001b[1;33m\u001b[0m\u001b[1;33m\u001b[0m\u001b[0m\n\u001b[0;32m    954\u001b[0m \u001b[1;33m\u001b[0m\u001b[0m\n\u001b[1;32m--> 955\u001b[1;33m         \u001b[1;32mreturn\u001b[0m \u001b[0mplot_backend\u001b[0m\u001b[1;33m.\u001b[0m\u001b[0mplot\u001b[0m\u001b[1;33m(\u001b[0m\u001b[0mdata\u001b[0m\u001b[1;33m,\u001b[0m \u001b[0mkind\u001b[0m\u001b[1;33m=\u001b[0m\u001b[0mkind\u001b[0m\u001b[1;33m,\u001b[0m \u001b[1;33m**\u001b[0m\u001b[0mkwargs\u001b[0m\u001b[1;33m)\u001b[0m\u001b[1;33m\u001b[0m\u001b[1;33m\u001b[0m\u001b[0m\n\u001b[0m\u001b[0;32m    956\u001b[0m \u001b[1;33m\u001b[0m\u001b[0m\n\u001b[0;32m    957\u001b[0m     \u001b[0m__call__\u001b[0m\u001b[1;33m.\u001b[0m\u001b[0m__doc__\u001b[0m \u001b[1;33m=\u001b[0m \u001b[0m__doc__\u001b[0m\u001b[1;33m\u001b[0m\u001b[1;33m\u001b[0m\u001b[0m\n",
      "\u001b[1;32m~\\anaconda3\\envs\\endsarsproject\\lib\\site-packages\\pandas\\plotting\\_matplotlib\\__init__.py\u001b[0m in \u001b[0;36mplot\u001b[1;34m(data, kind, **kwargs)\u001b[0m\n\u001b[0;32m     59\u001b[0m             \u001b[0mkwargs\u001b[0m\u001b[1;33m[\u001b[0m\u001b[1;34m\"ax\"\u001b[0m\u001b[1;33m]\u001b[0m \u001b[1;33m=\u001b[0m \u001b[0mgetattr\u001b[0m\u001b[1;33m(\u001b[0m\u001b[0max\u001b[0m\u001b[1;33m,\u001b[0m \u001b[1;34m\"left_ax\"\u001b[0m\u001b[1;33m,\u001b[0m \u001b[0max\u001b[0m\u001b[1;33m)\u001b[0m\u001b[1;33m\u001b[0m\u001b[1;33m\u001b[0m\u001b[0m\n\u001b[0;32m     60\u001b[0m     \u001b[0mplot_obj\u001b[0m \u001b[1;33m=\u001b[0m \u001b[0mPLOT_CLASSES\u001b[0m\u001b[1;33m[\u001b[0m\u001b[0mkind\u001b[0m\u001b[1;33m]\u001b[0m\u001b[1;33m(\u001b[0m\u001b[0mdata\u001b[0m\u001b[1;33m,\u001b[0m \u001b[1;33m**\u001b[0m\u001b[0mkwargs\u001b[0m\u001b[1;33m)\u001b[0m\u001b[1;33m\u001b[0m\u001b[1;33m\u001b[0m\u001b[0m\n\u001b[1;32m---> 61\u001b[1;33m     \u001b[0mplot_obj\u001b[0m\u001b[1;33m.\u001b[0m\u001b[0mgenerate\u001b[0m\u001b[1;33m(\u001b[0m\u001b[1;33m)\u001b[0m\u001b[1;33m\u001b[0m\u001b[1;33m\u001b[0m\u001b[0m\n\u001b[0m\u001b[0;32m     62\u001b[0m     \u001b[0mplot_obj\u001b[0m\u001b[1;33m.\u001b[0m\u001b[0mdraw\u001b[0m\u001b[1;33m(\u001b[0m\u001b[1;33m)\u001b[0m\u001b[1;33m\u001b[0m\u001b[1;33m\u001b[0m\u001b[0m\n\u001b[0;32m     63\u001b[0m     \u001b[1;32mreturn\u001b[0m \u001b[0mplot_obj\u001b[0m\u001b[1;33m.\u001b[0m\u001b[0mresult\u001b[0m\u001b[1;33m\u001b[0m\u001b[1;33m\u001b[0m\u001b[0m\n",
      "\u001b[1;32m~\\anaconda3\\envs\\endsarsproject\\lib\\site-packages\\pandas\\plotting\\_matplotlib\\core.py\u001b[0m in \u001b[0;36mgenerate\u001b[1;34m(self)\u001b[0m\n\u001b[0;32m    276\u001b[0m     \u001b[1;32mdef\u001b[0m \u001b[0mgenerate\u001b[0m\u001b[1;33m(\u001b[0m\u001b[0mself\u001b[0m\u001b[1;33m)\u001b[0m\u001b[1;33m:\u001b[0m\u001b[1;33m\u001b[0m\u001b[1;33m\u001b[0m\u001b[0m\n\u001b[0;32m    277\u001b[0m         \u001b[0mself\u001b[0m\u001b[1;33m.\u001b[0m\u001b[0m_args_adjust\u001b[0m\u001b[1;33m(\u001b[0m\u001b[1;33m)\u001b[0m\u001b[1;33m\u001b[0m\u001b[1;33m\u001b[0m\u001b[0m\n\u001b[1;32m--> 278\u001b[1;33m         \u001b[0mself\u001b[0m\u001b[1;33m.\u001b[0m\u001b[0m_compute_plot_data\u001b[0m\u001b[1;33m(\u001b[0m\u001b[1;33m)\u001b[0m\u001b[1;33m\u001b[0m\u001b[1;33m\u001b[0m\u001b[0m\n\u001b[0m\u001b[0;32m    279\u001b[0m         \u001b[0mself\u001b[0m\u001b[1;33m.\u001b[0m\u001b[0m_setup_subplots\u001b[0m\u001b[1;33m(\u001b[0m\u001b[1;33m)\u001b[0m\u001b[1;33m\u001b[0m\u001b[1;33m\u001b[0m\u001b[0m\n\u001b[0;32m    280\u001b[0m         \u001b[0mself\u001b[0m\u001b[1;33m.\u001b[0m\u001b[0m_make_plot\u001b[0m\u001b[1;33m(\u001b[0m\u001b[1;33m)\u001b[0m\u001b[1;33m\u001b[0m\u001b[1;33m\u001b[0m\u001b[0m\n",
      "\u001b[1;32m~\\anaconda3\\envs\\endsarsproject\\lib\\site-packages\\pandas\\plotting\\_matplotlib\\core.py\u001b[0m in \u001b[0;36m_compute_plot_data\u001b[1;34m(self)\u001b[0m\n\u001b[0;32m    439\u001b[0m         \u001b[1;31m# no non-numeric frames or series allowed\u001b[0m\u001b[1;33m\u001b[0m\u001b[1;33m\u001b[0m\u001b[1;33m\u001b[0m\u001b[0m\n\u001b[0;32m    440\u001b[0m         \u001b[1;32mif\u001b[0m \u001b[0mis_empty\u001b[0m\u001b[1;33m:\u001b[0m\u001b[1;33m\u001b[0m\u001b[1;33m\u001b[0m\u001b[0m\n\u001b[1;32m--> 441\u001b[1;33m             \u001b[1;32mraise\u001b[0m \u001b[0mTypeError\u001b[0m\u001b[1;33m(\u001b[0m\u001b[1;34m\"no numeric data to plot\"\u001b[0m\u001b[1;33m)\u001b[0m\u001b[1;33m\u001b[0m\u001b[1;33m\u001b[0m\u001b[0m\n\u001b[0m\u001b[0;32m    442\u001b[0m \u001b[1;33m\u001b[0m\u001b[0m\n\u001b[0;32m    443\u001b[0m         \u001b[0mself\u001b[0m\u001b[1;33m.\u001b[0m\u001b[0mdata\u001b[0m \u001b[1;33m=\u001b[0m \u001b[0mnumeric_data\u001b[0m\u001b[1;33m.\u001b[0m\u001b[0mapply\u001b[0m\u001b[1;33m(\u001b[0m\u001b[0mself\u001b[0m\u001b[1;33m.\u001b[0m\u001b[0m_convert_to_ndarray\u001b[0m\u001b[1;33m)\u001b[0m\u001b[1;33m\u001b[0m\u001b[1;33m\u001b[0m\u001b[0m\n",
      "\u001b[1;31mTypeError\u001b[0m: no numeric data to plot"
     ]
    }
   ],
   "source": [
    "dataframe[\"tweets_created_at\"].plot()\n"
   ]
  },
  {
   "cell_type": "code",
   "execution_count": 16,
   "metadata": {},
   "outputs": [],
   "source": [
    "datafr = dataframe.groupby(\"users_location\")\n",
    "\n"
   ]
  },
  {
   "cell_type": "code",
   "execution_count": 17,
   "metadata": {},
   "outputs": [
    {
     "data": {
      "text/plain": [
       "<pandas.core.groupby.generic.DataFrameGroupBy object at 0x0000019C70D4D908>"
      ]
     },
     "execution_count": 17,
     "metadata": {},
     "output_type": "execute_result"
    }
   ],
   "source": [
    "datafr"
   ]
  },
  {
   "cell_type": "code",
   "execution_count": 18,
   "metadata": {},
   "outputs": [
    {
     "data": {
      "text/html": [
       "<div>\n",
       "<style scoped>\n",
       "    .dataframe tbody tr th:only-of-type {\n",
       "        vertical-align: middle;\n",
       "    }\n",
       "\n",
       "    .dataframe tbody tr th {\n",
       "        vertical-align: top;\n",
       "    }\n",
       "\n",
       "    .dataframe thead tr th {\n",
       "        text-align: left;\n",
       "    }\n",
       "\n",
       "    .dataframe thead tr:last-of-type th {\n",
       "        text-align: right;\n",
       "    }\n",
       "</style>\n",
       "<table border=\"1\" class=\"dataframe\">\n",
       "  <thead>\n",
       "    <tr>\n",
       "      <th></th>\n",
       "      <th colspan=\"8\" halign=\"left\">result_count</th>\n",
       "      <th colspan=\"2\" halign=\"left\">retweet_count</th>\n",
       "      <th>...</th>\n",
       "      <th colspan=\"2\" halign=\"left\">tweet_count</th>\n",
       "      <th colspan=\"8\" halign=\"left\">listed_count</th>\n",
       "    </tr>\n",
       "    <tr>\n",
       "      <th></th>\n",
       "      <th>count</th>\n",
       "      <th>mean</th>\n",
       "      <th>std</th>\n",
       "      <th>min</th>\n",
       "      <th>25%</th>\n",
       "      <th>50%</th>\n",
       "      <th>75%</th>\n",
       "      <th>max</th>\n",
       "      <th>count</th>\n",
       "      <th>mean</th>\n",
       "      <th>...</th>\n",
       "      <th>75%</th>\n",
       "      <th>max</th>\n",
       "      <th>count</th>\n",
       "      <th>mean</th>\n",
       "      <th>std</th>\n",
       "      <th>min</th>\n",
       "      <th>25%</th>\n",
       "      <th>50%</th>\n",
       "      <th>75%</th>\n",
       "      <th>max</th>\n",
       "    </tr>\n",
       "    <tr>\n",
       "      <th>users_location</th>\n",
       "      <th></th>\n",
       "      <th></th>\n",
       "      <th></th>\n",
       "      <th></th>\n",
       "      <th></th>\n",
       "      <th></th>\n",
       "      <th></th>\n",
       "      <th></th>\n",
       "      <th></th>\n",
       "      <th></th>\n",
       "      <th></th>\n",
       "      <th></th>\n",
       "      <th></th>\n",
       "      <th></th>\n",
       "      <th></th>\n",
       "      <th></th>\n",
       "      <th></th>\n",
       "      <th></th>\n",
       "      <th></th>\n",
       "      <th></th>\n",
       "      <th></th>\n",
       "    </tr>\n",
       "  </thead>\n",
       "  <tbody>\n",
       "    <tr>\n",
       "      <th></th>\n",
       "      <td>0.0</td>\n",
       "      <td>NaN</td>\n",
       "      <td>NaN</td>\n",
       "      <td>NaN</td>\n",
       "      <td>NaN</td>\n",
       "      <td>NaN</td>\n",
       "      <td>NaN</td>\n",
       "      <td>NaN</td>\n",
       "      <td>12800.0</td>\n",
       "      <td>2970.037969</td>\n",
       "      <td>...</td>\n",
       "      <td>39989.5</td>\n",
       "      <td>942727.0</td>\n",
       "      <td>12800.0</td>\n",
       "      <td>9.404297</td>\n",
       "      <td>145.492070</td>\n",
       "      <td>0.0</td>\n",
       "      <td>0.00</td>\n",
       "      <td>0.0</td>\n",
       "      <td>3.00</td>\n",
       "      <td>7865.0</td>\n",
       "    </tr>\n",
       "    <tr>\n",
       "      <th></th>\n",
       "      <td>0.0</td>\n",
       "      <td>NaN</td>\n",
       "      <td>NaN</td>\n",
       "      <td>NaN</td>\n",
       "      <td>NaN</td>\n",
       "      <td>NaN</td>\n",
       "      <td>NaN</td>\n",
       "      <td>NaN</td>\n",
       "      <td>24.0</td>\n",
       "      <td>1665.333333</td>\n",
       "      <td>...</td>\n",
       "      <td>46075.0</td>\n",
       "      <td>179630.0</td>\n",
       "      <td>24.0</td>\n",
       "      <td>4.250000</td>\n",
       "      <td>9.588263</td>\n",
       "      <td>0.0</td>\n",
       "      <td>0.00</td>\n",
       "      <td>0.0</td>\n",
       "      <td>3.25</td>\n",
       "      <td>41.0</td>\n",
       "    </tr>\n",
       "    <tr>\n",
       "      <th></th>\n",
       "      <td>0.0</td>\n",
       "      <td>NaN</td>\n",
       "      <td>NaN</td>\n",
       "      <td>NaN</td>\n",
       "      <td>NaN</td>\n",
       "      <td>NaN</td>\n",
       "      <td>NaN</td>\n",
       "      <td>NaN</td>\n",
       "      <td>2.0</td>\n",
       "      <td>31.000000</td>\n",
       "      <td>...</td>\n",
       "      <td>10611.5</td>\n",
       "      <td>11524.0</td>\n",
       "      <td>2.0</td>\n",
       "      <td>0.500000</td>\n",
       "      <td>0.707107</td>\n",
       "      <td>0.0</td>\n",
       "      <td>0.25</td>\n",
       "      <td>0.5</td>\n",
       "      <td>0.75</td>\n",
       "      <td>1.0</td>\n",
       "    </tr>\n",
       "    <tr>\n",
       "      <th></th>\n",
       "      <td>0.0</td>\n",
       "      <td>NaN</td>\n",
       "      <td>NaN</td>\n",
       "      <td>NaN</td>\n",
       "      <td>NaN</td>\n",
       "      <td>NaN</td>\n",
       "      <td>NaN</td>\n",
       "      <td>NaN</td>\n",
       "      <td>1.0</td>\n",
       "      <td>5251.000000</td>\n",
       "      <td>...</td>\n",
       "      <td>376503.0</td>\n",
       "      <td>376503.0</td>\n",
       "      <td>1.0</td>\n",
       "      <td>84.000000</td>\n",
       "      <td>NaN</td>\n",
       "      <td>84.0</td>\n",
       "      <td>84.00</td>\n",
       "      <td>84.0</td>\n",
       "      <td>84.00</td>\n",
       "      <td>84.0</td>\n",
       "    </tr>\n",
       "    <tr>\n",
       "      <th></th>\n",
       "      <td>0.0</td>\n",
       "      <td>NaN</td>\n",
       "      <td>NaN</td>\n",
       "      <td>NaN</td>\n",
       "      <td>NaN</td>\n",
       "      <td>NaN</td>\n",
       "      <td>NaN</td>\n",
       "      <td>NaN</td>\n",
       "      <td>1.0</td>\n",
       "      <td>4528.000000</td>\n",
       "      <td>...</td>\n",
       "      <td>43899.0</td>\n",
       "      <td>43899.0</td>\n",
       "      <td>1.0</td>\n",
       "      <td>4.000000</td>\n",
       "      <td>NaN</td>\n",
       "      <td>4.0</td>\n",
       "      <td>4.00</td>\n",
       "      <td>4.0</td>\n",
       "      <td>4.00</td>\n",
       "      <td>4.0</td>\n",
       "    </tr>\n",
       "  </tbody>\n",
       "</table>\n",
       "<p>5 rows × 72 columns</p>\n",
       "</div>"
      ],
      "text/plain": [
       "                  result_count                              retweet_count  \\\n",
       "                         count mean std min 25% 50% 75% max         count   \n",
       "users_location                                                              \n",
       "                           0.0  NaN NaN NaN NaN NaN NaN NaN       12800.0   \n",
       "                           0.0  NaN NaN NaN NaN NaN NaN NaN          24.0   \n",
       "                           0.0  NaN NaN NaN NaN NaN NaN NaN           2.0   \n",
       "                           0.0  NaN NaN NaN NaN NaN NaN NaN           1.0   \n",
       "                           0.0  NaN NaN NaN NaN NaN NaN NaN           1.0   \n",
       "\n",
       "                                ... tweet_count           listed_count  \\\n",
       "                          mean  ...         75%       max        count   \n",
       "users_location                  ...                                      \n",
       "                   2970.037969  ...     39989.5  942727.0      12800.0   \n",
       "                   1665.333333  ...     46075.0  179630.0         24.0   \n",
       "                     31.000000  ...     10611.5   11524.0          2.0   \n",
       "                   5251.000000  ...    376503.0  376503.0          1.0   \n",
       "                   4528.000000  ...     43899.0   43899.0          1.0   \n",
       "\n",
       "                                                                            \n",
       "                        mean         std   min    25%   50%    75%     max  \n",
       "users_location                                                              \n",
       "                    9.404297  145.492070   0.0   0.00   0.0   3.00  7865.0  \n",
       "                    4.250000    9.588263   0.0   0.00   0.0   3.25    41.0  \n",
       "                    0.500000    0.707107   0.0   0.25   0.5   0.75     1.0  \n",
       "                   84.000000         NaN  84.0  84.00  84.0  84.00    84.0  \n",
       "                    4.000000         NaN   4.0   4.00   4.0   4.00     4.0  \n",
       "\n",
       "[5 rows x 72 columns]"
      ]
     },
     "execution_count": 18,
     "metadata": {},
     "output_type": "execute_result"
    }
   ],
   "source": [
    "datafr.describe().head()"
   ]
  },
  {
   "cell_type": "code",
   "execution_count": 73,
   "metadata": {},
   "outputs": [],
   "source": [
    "dataframe['text']= dataframe['text'].str.lower()"
   ]
  },
  {
   "cell_type": "code",
   "execution_count": 9,
   "metadata": {},
   "outputs": [
    {
     "data": {
      "text/plain": [
       "'@kikimordi has made a successful documentary for #sexforgrades \\nWho’s going to create a documentary for #EndSARS #PoliceBrutality'"
      ]
     },
     "execution_count": 9,
     "metadata": {},
     "output_type": "execute_result"
    }
   ],
   "source": [
    "dataframe['text'].iloc[50]\n"
   ]
  },
  {
   "cell_type": "code",
   "execution_count": 72,
   "metadata": {},
   "outputs": [
    {
     "ename": "TypeError",
     "evalue": "Image data of dtype object cannot be converted to float",
     "output_type": "error",
     "traceback": [
      "\u001b[1;31m---------------------------------------------------------------------------\u001b[0m",
      "\u001b[1;31mTypeError\u001b[0m                                 Traceback (most recent call last)",
      "\u001b[1;32m<ipython-input-72-5d337c0cd81e>\u001b[0m in \u001b[0;36m<module>\u001b[1;34m\u001b[0m\n\u001b[0;32m     14\u001b[0m         \u001b[0mfig\u001b[0m\u001b[1;33m.\u001b[0m\u001b[0msuptitle\u001b[0m\u001b[1;33m(\u001b[0m\u001b[0mtitle\u001b[0m\u001b[1;33m,\u001b[0m \u001b[0mfontsize\u001b[0m \u001b[1;33m=\u001b[0m \u001b[1;36m20\u001b[0m\u001b[1;33m)\u001b[0m\u001b[1;33m\u001b[0m\u001b[1;33m\u001b[0m\u001b[0m\n\u001b[0;32m     15\u001b[0m         \u001b[0mfig\u001b[0m\u001b[1;33m.\u001b[0m\u001b[0msubplots_adjust\u001b[0m\u001b[1;33m(\u001b[0m\u001b[0mtop\u001b[0m \u001b[1;33m=\u001b[0m \u001b[1;36m2.3\u001b[0m\u001b[1;33m)\u001b[0m\u001b[1;33m\u001b[0m\u001b[1;33m\u001b[0m\u001b[0m\n\u001b[1;32m---> 16\u001b[1;33m \u001b[0mplt\u001b[0m\u001b[1;33m.\u001b[0m\u001b[0mimshow\u001b[0m\u001b[1;33m(\u001b[0m\u001b[0mwordcloud\u001b[0m\u001b[1;33m)\u001b[0m\u001b[1;33m\u001b[0m\u001b[1;33m\u001b[0m\u001b[0m\n\u001b[0m\u001b[0;32m     17\u001b[0m \u001b[0mplt\u001b[0m\u001b[1;33m.\u001b[0m\u001b[0mshow\u001b[0m\u001b[1;33m(\u001b[0m\u001b[1;33m)\u001b[0m\u001b[1;33m\u001b[0m\u001b[1;33m\u001b[0m\u001b[0m\n\u001b[0;32m     18\u001b[0m \u001b[1;33m\u001b[0m\u001b[0m\n",
      "\u001b[1;32m~\\anaconda3\\envs\\endsarsproject\\lib\\site-packages\\matplotlib\\pyplot.py\u001b[0m in \u001b[0;36mimshow\u001b[1;34m(X, cmap, norm, aspect, interpolation, alpha, vmin, vmax, origin, extent, filternorm, filterrad, resample, url, data, **kwargs)\u001b[0m\n\u001b[0;32m   2876\u001b[0m         \u001b[0mfilternorm\u001b[0m\u001b[1;33m=\u001b[0m\u001b[0mfilternorm\u001b[0m\u001b[1;33m,\u001b[0m \u001b[0mfilterrad\u001b[0m\u001b[1;33m=\u001b[0m\u001b[0mfilterrad\u001b[0m\u001b[1;33m,\u001b[0m \u001b[0mresample\u001b[0m\u001b[1;33m=\u001b[0m\u001b[0mresample\u001b[0m\u001b[1;33m,\u001b[0m\u001b[1;33m\u001b[0m\u001b[1;33m\u001b[0m\u001b[0m\n\u001b[0;32m   2877\u001b[0m         \u001b[0murl\u001b[0m\u001b[1;33m=\u001b[0m\u001b[0murl\u001b[0m\u001b[1;33m,\u001b[0m \u001b[1;33m**\u001b[0m\u001b[1;33m(\u001b[0m\u001b[1;33m{\u001b[0m\u001b[1;34m\"data\"\u001b[0m\u001b[1;33m:\u001b[0m \u001b[0mdata\u001b[0m\u001b[1;33m}\u001b[0m \u001b[1;32mif\u001b[0m \u001b[0mdata\u001b[0m \u001b[1;32mis\u001b[0m \u001b[1;32mnot\u001b[0m \u001b[1;32mNone\u001b[0m \u001b[1;32melse\u001b[0m \u001b[1;33m{\u001b[0m\u001b[1;33m}\u001b[0m\u001b[1;33m)\u001b[0m\u001b[1;33m,\u001b[0m\u001b[1;33m\u001b[0m\u001b[1;33m\u001b[0m\u001b[0m\n\u001b[1;32m-> 2878\u001b[1;33m         **kwargs)\n\u001b[0m\u001b[0;32m   2879\u001b[0m     \u001b[0msci\u001b[0m\u001b[1;33m(\u001b[0m\u001b[0m__ret\u001b[0m\u001b[1;33m)\u001b[0m\u001b[1;33m\u001b[0m\u001b[1;33m\u001b[0m\u001b[0m\n\u001b[0;32m   2880\u001b[0m     \u001b[1;32mreturn\u001b[0m \u001b[0m__ret\u001b[0m\u001b[1;33m\u001b[0m\u001b[1;33m\u001b[0m\u001b[0m\n",
      "\u001b[1;32m~\\anaconda3\\envs\\endsarsproject\\lib\\site-packages\\matplotlib\\__init__.py\u001b[0m in \u001b[0;36minner\u001b[1;34m(ax, data, *args, **kwargs)\u001b[0m\n\u001b[0;32m   1350\u001b[0m     \u001b[1;32mdef\u001b[0m \u001b[0minner\u001b[0m\u001b[1;33m(\u001b[0m\u001b[0max\u001b[0m\u001b[1;33m,\u001b[0m \u001b[1;33m*\u001b[0m\u001b[0margs\u001b[0m\u001b[1;33m,\u001b[0m \u001b[0mdata\u001b[0m\u001b[1;33m=\u001b[0m\u001b[1;32mNone\u001b[0m\u001b[1;33m,\u001b[0m \u001b[1;33m**\u001b[0m\u001b[0mkwargs\u001b[0m\u001b[1;33m)\u001b[0m\u001b[1;33m:\u001b[0m\u001b[1;33m\u001b[0m\u001b[1;33m\u001b[0m\u001b[0m\n\u001b[0;32m   1351\u001b[0m         \u001b[1;32mif\u001b[0m \u001b[0mdata\u001b[0m \u001b[1;32mis\u001b[0m \u001b[1;32mNone\u001b[0m\u001b[1;33m:\u001b[0m\u001b[1;33m\u001b[0m\u001b[1;33m\u001b[0m\u001b[0m\n\u001b[1;32m-> 1352\u001b[1;33m             \u001b[1;32mreturn\u001b[0m \u001b[0mfunc\u001b[0m\u001b[1;33m(\u001b[0m\u001b[0max\u001b[0m\u001b[1;33m,\u001b[0m \u001b[1;33m*\u001b[0m\u001b[0mmap\u001b[0m\u001b[1;33m(\u001b[0m\u001b[0msanitize_sequence\u001b[0m\u001b[1;33m,\u001b[0m \u001b[0margs\u001b[0m\u001b[1;33m)\u001b[0m\u001b[1;33m,\u001b[0m \u001b[1;33m**\u001b[0m\u001b[0mkwargs\u001b[0m\u001b[1;33m)\u001b[0m\u001b[1;33m\u001b[0m\u001b[1;33m\u001b[0m\u001b[0m\n\u001b[0m\u001b[0;32m   1353\u001b[0m \u001b[1;33m\u001b[0m\u001b[0m\n\u001b[0;32m   1354\u001b[0m         \u001b[0mbound\u001b[0m \u001b[1;33m=\u001b[0m \u001b[0mnew_sig\u001b[0m\u001b[1;33m.\u001b[0m\u001b[0mbind\u001b[0m\u001b[1;33m(\u001b[0m\u001b[0max\u001b[0m\u001b[1;33m,\u001b[0m \u001b[1;33m*\u001b[0m\u001b[0margs\u001b[0m\u001b[1;33m,\u001b[0m \u001b[1;33m**\u001b[0m\u001b[0mkwargs\u001b[0m\u001b[1;33m)\u001b[0m\u001b[1;33m\u001b[0m\u001b[1;33m\u001b[0m\u001b[0m\n",
      "\u001b[1;32m~\\anaconda3\\envs\\endsarsproject\\lib\\site-packages\\matplotlib\\axes\\_axes.py\u001b[0m in \u001b[0;36mimshow\u001b[1;34m(self, X, cmap, norm, aspect, interpolation, alpha, vmin, vmax, origin, extent, filternorm, filterrad, resample, url, **kwargs)\u001b[0m\n\u001b[0;32m   5587\u001b[0m                               resample=resample, **kwargs)\n\u001b[0;32m   5588\u001b[0m \u001b[1;33m\u001b[0m\u001b[0m\n\u001b[1;32m-> 5589\u001b[1;33m         \u001b[0mim\u001b[0m\u001b[1;33m.\u001b[0m\u001b[0mset_data\u001b[0m\u001b[1;33m(\u001b[0m\u001b[0mX\u001b[0m\u001b[1;33m)\u001b[0m\u001b[1;33m\u001b[0m\u001b[1;33m\u001b[0m\u001b[0m\n\u001b[0m\u001b[0;32m   5590\u001b[0m         \u001b[0mim\u001b[0m\u001b[1;33m.\u001b[0m\u001b[0mset_alpha\u001b[0m\u001b[1;33m(\u001b[0m\u001b[0malpha\u001b[0m\u001b[1;33m)\u001b[0m\u001b[1;33m\u001b[0m\u001b[1;33m\u001b[0m\u001b[0m\n\u001b[0;32m   5591\u001b[0m         \u001b[1;32mif\u001b[0m \u001b[0mim\u001b[0m\u001b[1;33m.\u001b[0m\u001b[0mget_clip_path\u001b[0m\u001b[1;33m(\u001b[0m\u001b[1;33m)\u001b[0m \u001b[1;32mis\u001b[0m \u001b[1;32mNone\u001b[0m\u001b[1;33m:\u001b[0m\u001b[1;33m\u001b[0m\u001b[1;33m\u001b[0m\u001b[0m\n",
      "\u001b[1;32m~\\anaconda3\\envs\\endsarsproject\\lib\\site-packages\\matplotlib\\image.py\u001b[0m in \u001b[0;36mset_data\u001b[1;34m(self, A)\u001b[0m\n\u001b[0;32m    699\u001b[0m                 not np.can_cast(self._A.dtype, float, \"same_kind\")):\n\u001b[0;32m    700\u001b[0m             raise TypeError(\"Image data of dtype {} cannot be converted to \"\n\u001b[1;32m--> 701\u001b[1;33m                             \"float\".format(self._A.dtype))\n\u001b[0m\u001b[0;32m    702\u001b[0m \u001b[1;33m\u001b[0m\u001b[0m\n\u001b[0;32m    703\u001b[0m         \u001b[1;32mif\u001b[0m \u001b[0mself\u001b[0m\u001b[1;33m.\u001b[0m\u001b[0m_A\u001b[0m\u001b[1;33m.\u001b[0m\u001b[0mndim\u001b[0m \u001b[1;33m==\u001b[0m \u001b[1;36m3\u001b[0m \u001b[1;32mand\u001b[0m \u001b[0mself\u001b[0m\u001b[1;33m.\u001b[0m\u001b[0m_A\u001b[0m\u001b[1;33m.\u001b[0m\u001b[0mshape\u001b[0m\u001b[1;33m[\u001b[0m\u001b[1;33m-\u001b[0m\u001b[1;36m1\u001b[0m\u001b[1;33m]\u001b[0m \u001b[1;33m==\u001b[0m \u001b[1;36m1\u001b[0m\u001b[1;33m:\u001b[0m\u001b[1;33m\u001b[0m\u001b[1;33m\u001b[0m\u001b[0m\n",
      "\u001b[1;31mTypeError\u001b[0m: Image data of dtype object cannot be converted to float"
     ]
    },
    {
     "data": {
      "image/png": "[encoded data removed]",
      "text/plain": [
       "<Figure size 432x288 with 1 Axes>"
      ]
     },
     "metadata": {
      "needs_background": "light"
     },
     "output_type": "display_data"
    }
   ],
   "source": [
    "import wordcloud\n",
    "from wordcloud import WordCloud, STOPWORDS, ImageColorGenerator\n",
    "import matplotlib.pyplot as plt\n",
    "def show_wordcloud(dataframe, title = None):\n",
    "    wordcloud = WordCloud(\n",
    "        background_color = 'white',\n",
    "        max_words = 200,\n",
    "        max_font_size = 40, \n",
    "        scale = 3,\n",
    "        random_state = 42).generate(str(data))\n",
    "    fig = plt.figure(1, figsize = (15, 15))\n",
    "    plt.axis('off')\n",
    "    if title: \n",
    "        fig.suptitle(title, fontsize = 20)\n",
    "        fig.subplots_adjust(top = 2.3)\n",
    "plt.imshow(wordcloud)\n",
    "plt.show()\n",
    "    \n",
    "# print wordcloud\n",
    "show_wordcloud(dataframe['text'])"
   ]
  },
  {
   "cell_type": "code",
   "execution_count": 96,
   "metadata": {},
   "outputs": [
    {
     "data": {
      "text/plain": [
       "dtype('O')"
      ]
     },
     "execution_count": 96,
     "metadata": {},
     "output_type": "execute_result"
    }
   ],
   "source": [
    "dataframe['text'].dtype"
   ]
  },
  {
   "cell_type": "code",
   "execution_count": 95,
   "metadata": {},
   "outputs": [
    {
     "ename": "TypeError",
     "evalue": "expected string or bytes-like object",
     "output_type": "error",
     "traceback": [
      "\u001b[1;31m---------------------------------------------------------------------------\u001b[0m",
      "\u001b[1;31mTypeError\u001b[0m                                 Traceback (most recent call last)",
      "\u001b[1;32m<ipython-input-95-1f4ce5ebf55a>\u001b[0m in \u001b[0;36m<module>\u001b[1;34m\u001b[0m\n\u001b[0;32m      3\u001b[0m \u001b[1;33m\u001b[0m\u001b[0m\n\u001b[0;32m      4\u001b[0m \u001b[1;31m# Create and generate a word cloud image:\u001b[0m\u001b[1;33m\u001b[0m\u001b[1;33m\u001b[0m\u001b[1;33m\u001b[0m\u001b[0m\n\u001b[1;32m----> 5\u001b[1;33m \u001b[0mwordcloud\u001b[0m \u001b[1;33m=\u001b[0m \u001b[0mWordCloud\u001b[0m\u001b[1;33m(\u001b[0m\u001b[1;33m)\u001b[0m\u001b[1;33m.\u001b[0m\u001b[0mgenerate\u001b[0m\u001b[1;33m(\u001b[0m\u001b[0mtext\u001b[0m\u001b[1;33m)\u001b[0m\u001b[1;33m\u001b[0m\u001b[1;33m\u001b[0m\u001b[0m\n\u001b[0m\u001b[0;32m      6\u001b[0m \u001b[1;33m\u001b[0m\u001b[0m\n\u001b[0;32m      7\u001b[0m \u001b[1;31m# Display the generated image:\u001b[0m\u001b[1;33m\u001b[0m\u001b[1;33m\u001b[0m\u001b[1;33m\u001b[0m\u001b[0m\n",
      "\u001b[1;32m~\\anaconda3\\envs\\endsarsproject\\lib\\site-packages\\wordcloud\\wordcloud.py\u001b[0m in \u001b[0;36mgenerate\u001b[1;34m(self, text)\u001b[0m\n\u001b[0;32m    630\u001b[0m         \u001b[0mself\u001b[0m\u001b[1;33m\u001b[0m\u001b[1;33m\u001b[0m\u001b[0m\n\u001b[0;32m    631\u001b[0m         \"\"\"\n\u001b[1;32m--> 632\u001b[1;33m         \u001b[1;32mreturn\u001b[0m \u001b[0mself\u001b[0m\u001b[1;33m.\u001b[0m\u001b[0mgenerate_from_text\u001b[0m\u001b[1;33m(\u001b[0m\u001b[0mtext\u001b[0m\u001b[1;33m)\u001b[0m\u001b[1;33m\u001b[0m\u001b[1;33m\u001b[0m\u001b[0m\n\u001b[0m\u001b[0;32m    633\u001b[0m \u001b[1;33m\u001b[0m\u001b[0m\n\u001b[0;32m    634\u001b[0m     \u001b[1;32mdef\u001b[0m \u001b[0m_check_generated\u001b[0m\u001b[1;33m(\u001b[0m\u001b[0mself\u001b[0m\u001b[1;33m)\u001b[0m\u001b[1;33m:\u001b[0m\u001b[1;33m\u001b[0m\u001b[1;33m\u001b[0m\u001b[0m\n",
      "\u001b[1;32m~\\anaconda3\\envs\\endsarsproject\\lib\\site-packages\\wordcloud\\wordcloud.py\u001b[0m in \u001b[0;36mgenerate_from_text\u001b[1;34m(self, text)\u001b[0m\n\u001b[0;32m    611\u001b[0m         \u001b[0mself\u001b[0m\u001b[1;33m\u001b[0m\u001b[1;33m\u001b[0m\u001b[0m\n\u001b[0;32m    612\u001b[0m         \"\"\"\n\u001b[1;32m--> 613\u001b[1;33m         \u001b[0mwords\u001b[0m \u001b[1;33m=\u001b[0m \u001b[0mself\u001b[0m\u001b[1;33m.\u001b[0m\u001b[0mprocess_text\u001b[0m\u001b[1;33m(\u001b[0m\u001b[0mtext\u001b[0m\u001b[1;33m)\u001b[0m\u001b[1;33m\u001b[0m\u001b[1;33m\u001b[0m\u001b[0m\n\u001b[0m\u001b[0;32m    614\u001b[0m         \u001b[0mself\u001b[0m\u001b[1;33m.\u001b[0m\u001b[0mgenerate_from_frequencies\u001b[0m\u001b[1;33m(\u001b[0m\u001b[0mwords\u001b[0m\u001b[1;33m)\u001b[0m\u001b[1;33m\u001b[0m\u001b[1;33m\u001b[0m\u001b[0m\n\u001b[0;32m    615\u001b[0m         \u001b[1;32mreturn\u001b[0m \u001b[0mself\u001b[0m\u001b[1;33m\u001b[0m\u001b[1;33m\u001b[0m\u001b[0m\n",
      "\u001b[1;32m~\\anaconda3\\envs\\endsarsproject\\lib\\site-packages\\wordcloud\\wordcloud.py\u001b[0m in \u001b[0;36mprocess_text\u001b[1;34m(self, text)\u001b[0m\n\u001b[0;32m    573\u001b[0m         \u001b[0mregexp\u001b[0m \u001b[1;33m=\u001b[0m \u001b[0mself\u001b[0m\u001b[1;33m.\u001b[0m\u001b[0mregexp\u001b[0m \u001b[1;32mif\u001b[0m \u001b[0mself\u001b[0m\u001b[1;33m.\u001b[0m\u001b[0mregexp\u001b[0m \u001b[1;32mis\u001b[0m \u001b[1;32mnot\u001b[0m \u001b[1;32mNone\u001b[0m \u001b[1;32melse\u001b[0m \u001b[0mpattern\u001b[0m\u001b[1;33m\u001b[0m\u001b[1;33m\u001b[0m\u001b[0m\n\u001b[0;32m    574\u001b[0m \u001b[1;33m\u001b[0m\u001b[0m\n\u001b[1;32m--> 575\u001b[1;33m         \u001b[0mwords\u001b[0m \u001b[1;33m=\u001b[0m \u001b[0mre\u001b[0m\u001b[1;33m.\u001b[0m\u001b[0mfindall\u001b[0m\u001b[1;33m(\u001b[0m\u001b[0mregexp\u001b[0m\u001b[1;33m,\u001b[0m \u001b[0mtext\u001b[0m\u001b[1;33m,\u001b[0m \u001b[0mflags\u001b[0m\u001b[1;33m)\u001b[0m\u001b[1;33m\u001b[0m\u001b[1;33m\u001b[0m\u001b[0m\n\u001b[0m\u001b[0;32m    576\u001b[0m         \u001b[1;31m# remove 's\u001b[0m\u001b[1;33m\u001b[0m\u001b[1;33m\u001b[0m\u001b[1;33m\u001b[0m\u001b[0m\n\u001b[0;32m    577\u001b[0m         words = [word[:-2] if word.lower().endswith(\"'s\") else word\n",
      "\u001b[1;32m~\\anaconda3\\envs\\endsarsproject\\lib\\re.py\u001b[0m in \u001b[0;36mfindall\u001b[1;34m(pattern, string, flags)\u001b[0m\n\u001b[0;32m    223\u001b[0m \u001b[1;33m\u001b[0m\u001b[0m\n\u001b[0;32m    224\u001b[0m     Empty matches are included in the result.\"\"\"\n\u001b[1;32m--> 225\u001b[1;33m     \u001b[1;32mreturn\u001b[0m \u001b[0m_compile\u001b[0m\u001b[1;33m(\u001b[0m\u001b[0mpattern\u001b[0m\u001b[1;33m,\u001b[0m \u001b[0mflags\u001b[0m\u001b[1;33m)\u001b[0m\u001b[1;33m.\u001b[0m\u001b[0mfindall\u001b[0m\u001b[1;33m(\u001b[0m\u001b[0mstring\u001b[0m\u001b[1;33m)\u001b[0m\u001b[1;33m\u001b[0m\u001b[1;33m\u001b[0m\u001b[0m\n\u001b[0m\u001b[0;32m    226\u001b[0m \u001b[1;33m\u001b[0m\u001b[0m\n\u001b[0;32m    227\u001b[0m \u001b[1;32mdef\u001b[0m \u001b[0mfinditer\u001b[0m\u001b[1;33m(\u001b[0m\u001b[0mpattern\u001b[0m\u001b[1;33m,\u001b[0m \u001b[0mstring\u001b[0m\u001b[1;33m,\u001b[0m \u001b[0mflags\u001b[0m\u001b[1;33m=\u001b[0m\u001b[1;36m0\u001b[0m\u001b[1;33m)\u001b[0m\u001b[1;33m:\u001b[0m\u001b[1;33m\u001b[0m\u001b[1;33m\u001b[0m\u001b[0m\n",
      "\u001b[1;31mTypeError\u001b[0m: expected string or bytes-like object"
     ]
    }
   ],
   "source": [
    "# Start with one review:\n",
    "text = dataframe['text']\n",
    "\n",
    "# Create and generate a word cloud image:\n",
    "wordcloud = WordCloud().generate(text)\n",
    "\n",
    "# Display the generated image:\n",
    "plt.imshow(wordcloud, interpolation='bilinear')\n",
    "plt.axis(\"off\")\n",
    "plt.show()"
   ]
  },
  {
   "cell_type": "code",
   "execution_count": null,
   "metadata": {},
   "outputs": [],
   "source": [
    "# the column data['hashtags'] returns a list of string(s) for each tweet. Build a list of all hashtags in the dataset.\n",
    "hashtag_list = []\n",
    "for i in range(0, len(dataframe)):\n",
    "    # Obtain the current list of hashtags\n",
    "    curr_hashtag = dataframe.iloc[i, :]['hashtags']\n",
    "    \n",
    "    # Extract and append the hashtags to 'hashtag_list':\n",
    "    for j in range(0, len(curr_hashtag)):\n",
    "        hashtag_list.append(curr_hashtag[j])\n",
    "The total number of hashtags used can be determined by:\n",
    "# No. of hashtags\n",
    "print('No. of hashtags used in {} tweets is {}'.format(len(data), len(hashtag_list)))\n",
    "No. of hashtags used in 233651 tweets is 287331\n",
    "We build a simple dataframe for visualisation purposes:\n",
    "df_hashtag = pd.DataFrame(\n",
    "    {'hashtags': hashtag_list}\n",
    ")\n",
    "print(df_hashtag.head())\n",
    "print('Shape of df_hashtag is:', df_hashtag.shape)\n",
    "\n",
    "# Define N to be the top number of hashtags\n",
    "N = 15\n",
    "top_hashtags = df_hashtag.groupby(['hashtags']).size().reset_index(name = 'counts').sort_values(by = 'counts', ascending = False).head(N)\n",
    "print(top_hashtags)\n",
    "# seaborn countplot on the top N hashtags\n",
    "plt.figure(figsize=(30,8))\n",
    "sns.set_palette('PuBuGn_d')\n",
    "sns.barplot(x = 'hashtags', y = 'counts', data = top_hashtags)\n",
    "plt.title('Barplot of Top ' + str(N) + ' Hashtags used')\n",
    "plt.xlabel('Hashtags')\n",
    "plt.ylabel('Frequency')\n",
    "plt.show()\n"
   ]
  },
  {
   "cell_type": "code",
   "execution_count": 49,
   "metadata": {},
   "outputs": [],
   "source": [
    "#value count of the hashtag\n",
    "data = pd.Series(np.hstack(dataframe['hashtags'])).value_counts().to_frame('count').T\n"
   ]
  },
  {
   "cell_type": "code",
   "execution_count": 50,
   "metadata": {},
   "outputs": [
    {
     "data": {
      "text/html": [
       "<div>\n",
       "<style scoped>\n",
       "    .dataframe tbody tr th:only-of-type {\n",
       "        vertical-align: middle;\n",
       "    }\n",
       "\n",
       "    .dataframe tbody tr th {\n",
       "        vertical-align: top;\n",
       "    }\n",
       "\n",
       "    .dataframe thead th {\n",
       "        text-align: right;\n",
       "    }\n",
       "</style>\n",
       "<table border=\"1\" class=\"dataframe\">\n",
       "  <thead>\n",
       "    <tr style=\"text-align: right;\">\n",
       "      <th></th>\n",
       "      <th>EndSARS</th>\n",
       "      <th>EndSars</th>\n",
       "      <th>EndPoliceBrutality</th>\n",
       "      <th>MadOh</th>\n",
       "      <th>SagamuOnFire</th>\n",
       "      <th>endsars</th>\n",
       "      <th>maryambooth</th>\n",
       "      <th>LekkiMassacre</th>\n",
       "      <th>JusticeForChima</th>\n",
       "      <th>Arewatwitter</th>\n",
       "      <th>...</th>\n",
       "      <th>USvsIran</th>\n",
       "      <th>koladejohnson</th>\n",
       "      <th>Putin</th>\n",
       "      <th>PC2180NA</th>\n",
       "      <th>50MillionYouthVoterCards</th>\n",
       "      <th>LagosProtests</th>\n",
       "      <th>wizkidayo</th>\n",
       "      <th>JusticeForAsim</th>\n",
       "      <th>WomensDay</th>\n",
       "      <th>Covid19</th>\n",
       "    </tr>\n",
       "  </thead>\n",
       "  <tbody>\n",
       "    <tr>\n",
       "      <th>count</th>\n",
       "      <td>19564</td>\n",
       "      <td>1405</td>\n",
       "      <td>1252</td>\n",
       "      <td>1218</td>\n",
       "      <td>1197</td>\n",
       "      <td>969</td>\n",
       "      <td>920</td>\n",
       "      <td>875</td>\n",
       "      <td>748</td>\n",
       "      <td>711</td>\n",
       "      <td>...</td>\n",
       "      <td>1</td>\n",
       "      <td>1</td>\n",
       "      <td>1</td>\n",
       "      <td>1</td>\n",
       "      <td>1</td>\n",
       "      <td>1</td>\n",
       "      <td>1</td>\n",
       "      <td>1</td>\n",
       "      <td>1</td>\n",
       "      <td>1</td>\n",
       "    </tr>\n",
       "  </tbody>\n",
       "</table>\n",
       "<p>1 rows × 3853 columns</p>\n",
       "</div>"
      ],
      "text/plain": [
       "       EndSARS  EndSars  EndPoliceBrutality  MadOh  SagamuOnFire  endsars  \\\n",
       "count    19564     1405                1252   1218          1197      969   \n",
       "\n",
       "       maryambooth  LekkiMassacre  JusticeForChima  Arewatwitter  ...  \\\n",
       "count          920            875              748           711  ...   \n",
       "\n",
       "       USvsIran  koladejohnson  Putin  PC2180NA  50MillionYouthVoterCards  \\\n",
       "count         1              1      1         1                         1   \n",
       "\n",
       "       LagosProtests  wizkidayo  JusticeForAsim  WomensDay  Covid19  \n",
       "count              1          1               1          1        1  \n",
       "\n",
       "[1 rows x 3853 columns]"
      ]
     },
     "execution_count": 50,
     "metadata": {},
     "output_type": "execute_result"
    }
   ],
   "source": [
    "data\n"
   ]
  },
  {
   "cell_type": "code",
   "execution_count": 55,
   "metadata": {},
   "outputs": [
    {
     "data": {
      "text/html": [
       "<div>\n",
       "<style scoped>\n",
       "    .dataframe tbody tr th:only-of-type {\n",
       "        vertical-align: middle;\n",
       "    }\n",
       "\n",
       "    .dataframe tbody tr th {\n",
       "        vertical-align: top;\n",
       "    }\n",
       "\n",
       "    .dataframe thead th {\n",
       "        text-align: right;\n",
       "    }\n",
       "</style>\n",
       "<table border=\"1\" class=\"dataframe\">\n",
       "  <thead>\n",
       "    <tr style=\"text-align: right;\">\n",
       "      <th></th>\n",
       "      <th>Nigeria</th>\n",
       "      <th></th>\n",
       "      <th>Nigeria</th>\n",
       "      <th>nan</th>\n",
       "      <th>Lagos</th>\n",
       "      <th>Earth</th>\n",
       "      <th>Abuja</th>\n",
       "      <th>Lagos Nigeria</th>\n",
       "      <th>Nig</th>\n",
       "      <th>USA</th>\n",
       "      <th>...</th>\n",
       "      <th>The COSMOS</th>\n",
       "      <th>Abule-Benja</th>\n",
       "      <th>Nigeria 👀</th>\n",
       "      <th>Thailand 🇹🇭</th>\n",
       "      <th>Fireboy's frying pan.</th>\n",
       "      <th>Loud Nation.🇳🇫</th>\n",
       "      <th>Leicester-Lagos- London -Abuja</th>\n",
       "      <th>obodo oyibo IJN</th>\n",
       "      <th>Northern Yoruba Temple</th>\n",
       "      <th>ทุกที่ที่จ่ายมากพอ</th>\n",
       "    </tr>\n",
       "  </thead>\n",
       "  <tbody>\n",
       "    <tr>\n",
       "      <th>count</th>\n",
       "      <td>13021</td>\n",
       "      <td>12800</td>\n",
       "      <td>5187</td>\n",
       "      <td>1368</td>\n",
       "      <td>1296</td>\n",
       "      <td>376</td>\n",
       "      <td>327</td>\n",
       "      <td>280</td>\n",
       "      <td>276</td>\n",
       "      <td>270</td>\n",
       "      <td>...</td>\n",
       "      <td>1</td>\n",
       "      <td>1</td>\n",
       "      <td>1</td>\n",
       "      <td>1</td>\n",
       "      <td>1</td>\n",
       "      <td>1</td>\n",
       "      <td>1</td>\n",
       "      <td>1</td>\n",
       "      <td>1</td>\n",
       "      <td>1</td>\n",
       "    </tr>\n",
       "  </tbody>\n",
       "</table>\n",
       "<p>1 rows × 8583 columns</p>\n",
       "</div>"
      ],
      "text/plain": [
       "        Nigeria         Nigeria   nan  Lagos  Earth  Abuja  Lagos Nigeria  \\\n",
       "count     13021  12800     5187  1368   1296    376    327            280   \n",
       "\n",
       "        Nig   USA  ...  The COSMOS  Abule-Benja   Nigeria 👀  Thailand 🇹🇭  \\\n",
       "count   276   270  ...           1            1           1            1   \n",
       "\n",
       "       Fireboy's frying pan.   Loud Nation.🇳🇫  Leicester-Lagos- London -Abuja  \\\n",
       "count                       1               1                               1   \n",
       "\n",
       "       obodo oyibo IJN   Northern Yoruba Temple  ทุกที่ที่จ่ายมากพอ  \n",
       "count                 1                       1                   1  \n",
       "\n",
       "[1 rows x 8583 columns]"
      ]
     },
     "execution_count": 55,
     "metadata": {},
     "output_type": "execute_result"
    }
   ],
   "source": [
    "#value count of the location\n",
    "users_location_count = pd.Series(np.hstack(dataframe['users_location'])).value_counts().to_frame('count').T\n",
    "users_location_count\n"
   ]
  },
  {
   "cell_type": "code",
   "execution_count": null,
   "metadata": {},
   "outputs": [],
   "source": [
    "#dataframe.location.unique()\n"
   ]
  },
  {
   "cell_type": "code",
   "execution_count": null,
   "metadata": {},
   "outputs": [],
   "source": [
    "for i in "
   ]
  },
  {
   "cell_type": "code",
   "execution_count": null,
   "metadata": {},
   "outputs": [],
   "source": [
    "from wordcloud import WordCloud, StopWords\n",
    "import matplotlib.pyplot as plt\n",
    "def plot_cloud(wordcloud):\n",
    "    plt.figure(figsize=(10, 10))\n",
    "    plt.imshow(wordcloud)\n",
    "    plt.axis(\"off\");\n",
    "wordcloud = WordCloud(width = 500, height = 500, background_color='#40E0D0', colormap=\"ocean\",  random_state=10).generate(final_result)\n",
    "plot_cloud()\n"
   ]
  },
  {
   "cell_type": "code",
   "execution_count": 98,
   "metadata": {},
   "outputs": [
    {
     "name": "stderr",
     "output_type": "stream",
     "text": [
      "WARNING: You are using pip version 21.0.1; however, version 21.1 is available.\n",
      "You should consider upgrading via the 'C:\\Users\\USER\\anaconda3\\envs\\endsarsproject\\python.exe -m pip install --upgrade pip' command.\n"
     ]
    },
    {
     "name": "stdout",
     "output_type": "stream",
     "text": [
      "Collecting nltkNote: you may need to restart the kernel to use updated packages.\n",
      "  Downloading nltk-3.6.2-py3-none-any.whl (1.5 MB)\n",
      "Requirement already satisfied: joblib in c:\\users\\user\\anaconda3\\envs\\endsarsproject\\lib\\site-packages (from nltk) (1.0.1)\n",
      "Collecting regex\n",
      "  Downloading regex-2021.4.4-cp37-cp37m-win_amd64.whl (269 kB)\n",
      "Collecting click\n",
      "  Using cached click-7.1.2-py2.py3-none-any.whl (82 kB)\n",
      "Collecting tqdm\n",
      "  Using cached tqdm-4.60.0-py2.py3-none-any.whl (75 kB)\n",
      "Installing collected packages: tqdm, regex, click, nltk\n",
      "\n",
      "Successfully installed click-7.1.2 nltk-3.6.2 regex-2021.4.4 tqdm-4.60.0\n"
     ]
    }
   ],
   "source": [
    "pip install nltk\n"
   ]
  },
  {
   "cell_type": "code",
   "execution_count": 99,
   "metadata": {},
   "outputs": [
    {
     "ename": "ImportError",
     "evalue": "cannot import name 'StopWords' from 'wordcloud' (C:\\Users\\USER\\anaconda3\\envs\\endsarsproject\\lib\\site-packages\\wordcloud\\__init__.py)",
     "output_type": "error",
     "traceback": [
      "\u001b[1;31m---------------------------------------------------------------------------\u001b[0m",
      "\u001b[1;31mImportError\u001b[0m                               Traceback (most recent call last)",
      "\u001b[1;32m<ipython-input-99-b0a6dbb3c8f1>\u001b[0m in \u001b[0;36m<module>\u001b[1;34m\u001b[0m\n\u001b[1;32m----> 1\u001b[1;33m \u001b[1;32mfrom\u001b[0m \u001b[0mwordcloud\u001b[0m \u001b[1;32mimport\u001b[0m \u001b[0mWordCloud\u001b[0m\u001b[1;33m,\u001b[0m \u001b[0mStopWords\u001b[0m\u001b[1;33m\u001b[0m\u001b[1;33m\u001b[0m\u001b[0m\n\u001b[0m\u001b[0;32m      2\u001b[0m \u001b[1;32mimport\u001b[0m \u001b[0mmatplotlib\u001b[0m\u001b[1;33m.\u001b[0m\u001b[0mpyplot\u001b[0m \u001b[1;32mas\u001b[0m \u001b[0mplt\u001b[0m\u001b[1;33m\u001b[0m\u001b[1;33m\u001b[0m\u001b[0m\n\u001b[0;32m      3\u001b[0m \u001b[1;32mdef\u001b[0m \u001b[0mplot_cloud\u001b[0m\u001b[1;33m(\u001b[0m\u001b[0mwordcloud\u001b[0m\u001b[1;33m)\u001b[0m\u001b[1;33m:\u001b[0m\u001b[1;33m\u001b[0m\u001b[1;33m\u001b[0m\u001b[0m\n\u001b[0;32m      4\u001b[0m     \u001b[0mplt\u001b[0m\u001b[1;33m.\u001b[0m\u001b[0mfigure\u001b[0m\u001b[1;33m(\u001b[0m\u001b[0mfigsize\u001b[0m\u001b[1;33m=\u001b[0m\u001b[1;33m(\u001b[0m\u001b[1;36m10\u001b[0m\u001b[1;33m,\u001b[0m \u001b[1;36m10\u001b[0m\u001b[1;33m)\u001b[0m\u001b[1;33m)\u001b[0m\u001b[1;33m\u001b[0m\u001b[1;33m\u001b[0m\u001b[0m\n\u001b[0;32m      5\u001b[0m     \u001b[0mplt\u001b[0m\u001b[1;33m.\u001b[0m\u001b[0mimshow\u001b[0m\u001b[1;33m(\u001b[0m\u001b[0mwordcloud\u001b[0m\u001b[1;33m)\u001b[0m\u001b[1;33m\u001b[0m\u001b[1;33m\u001b[0m\u001b[0m\n",
      "\u001b[1;31mImportError\u001b[0m: cannot import name 'StopWords' from 'wordcloud' (C:\\Users\\USER\\anaconda3\\envs\\endsarsproject\\lib\\site-packages\\wordcloud\\__init__.py)"
     ]
    }
   ],
   "source": [
    "from wordcloud import WordCloud, StopWords\n",
    "import matplotlib.pyplot as plt\n",
    "def plot_cloud(wordcloud):\n",
    "    plt.figure(figsize=(10, 10))\n",
    "    plt.imshow(wordcloud)\n",
    "    plt.axis(\"off\");\n",
    "wordcloud = WordCloud(width = 500, height = 500, background_color='#40E0D0', colormap=\"ocean\",  random_state=10).generate(final_result)\n",
    "plot_cloud()\n"
   ]
  },
  {
   "cell_type": "markdown",
   "metadata": {},
   "source": [
    "## DATA VISUALIZATION OF CATEGORICAL VARIABLE"
   ]
  },
  {
   "cell_type": "code",
   "execution_count": null,
   "metadata": {},
   "outputs": [],
   "source": [
    "print(df['emp_title'].isnull().sum())"
   ]
  },
  {
   "cell_type": "code",
   "execution_count": 14,
   "metadata": {},
   "outputs": [
    {
     "name": "stdout",
     "output_type": "stream",
     "text": [
      "1368\n"
     ]
    }
   ],
   "source": [
    "print(dataframe['location'].isnull().sum())"
   ]
  },
  {
   "cell_type": "code",
   "execution_count": 15,
   "metadata": {},
   "outputs": [
    {
     "data": {
      "text/plain": [
       "                           12792\n",
       "Lagos, Nigeria              7531\n",
       "Nigeria                     4833\n",
       "Abuja, Nigeria              1317\n",
       "Lagos                       1279\n",
       "                           ...  \n",
       "Gold Coast                     1\n",
       "Abule.                         1\n",
       "Time is of the essence         1\n",
       "somewhere in the desert        1\n",
       "Randers, Danmark               1\n",
       "Name: location, Length: 9905, dtype: int64"
      ]
     },
     "execution_count": 15,
     "metadata": {},
     "output_type": "execute_result"
    }
   ],
   "source": [
    "dataframe['location'].value_counts().plot(kind='bar')\n"
   ]
  },
  {
   "cell_type": "code",
   "execution_count": null,
   "metadata": {},
   "outputs": [],
   "source": [
    "dataframe.groupby('location').plot(kind='bar')\n"
   ]
  },
  {
   "cell_type": "code",
   "execution_count": 60,
   "metadata": {},
   "outputs": [
    {
     "name": "stdout",
     "output_type": "stream",
     "text": [
      "Collecting pickle5Note: you may need to restart the kernel to use updated packages.\n"
     ]
    },
    {
     "name": "stderr",
     "output_type": "stream",
     "text": [
      "  ERROR: Command errored out with exit status 1:\n",
      "   command: 'C:\\Users\\USER\\anaconda3\\envs\\endsarsproject\\python.exe' -u -c 'import sys, setuptools, tokenize; sys.argv[0] = '\"'\"'C:\\\\Users\\\\USER\\\\AppData\\\\Local\\\\Temp\\\\pip-install-x4e05can\\\\pickle5_36aa2393169d441488aa5d824235210b\\\\setup.py'\"'\"'; __file__='\"'\"'C:\\\\Users\\\\USER\\\\AppData\\\\Local\\\\Temp\\\\pip-install-x4e05can\\\\pickle5_36aa2393169d441488aa5d824235210b\\\\setup.py'\"'\"';f=getattr(tokenize, '\"'\"'open'\"'\"', open)(__file__);code=f.read().replace('\"'\"'\\r\\n'\"'\"', '\"'\"'\\n'\"'\"');f.close();exec(compile(code, __file__, '\"'\"'exec'\"'\"'))' bdist_wheel -d 'C:\\Users\\USER\\AppData\\Local\\Temp\\pip-wheel-hi4wblg8'\n",
      "       cwd: C:\\Users\\USER\\AppData\\Local\\Temp\\pip-install-x4e05can\\pickle5_36aa2393169d441488aa5d824235210b\\\n",
      "  Complete output (17 lines):\n",
      "  running bdist_wheel\n",
      "  running build\n",
      "  running build_py\n",
      "  creating build\n",
      "  creating build\\lib.win-amd64-3.7\n",
      "  creating build\\lib.win-amd64-3.7\\pickle5\n",
      "  copying pickle5\\pickle.py -> build\\lib.win-amd64-3.7\\pickle5\n",
      "  copying pickle5\\pickletools.py -> build\\lib.win-amd64-3.7\\pickle5\n",
      "  copying pickle5\\__init__.py -> build\\lib.win-amd64-3.7\\pickle5\n",
      "  creating build\\lib.win-amd64-3.7\\pickle5\\test\n",
      "  copying pickle5\\test\\pickletester.py -> build\\lib.win-amd64-3.7\\pickle5\\test\n",
      "  copying pickle5\\test\\test_pickle.py -> build\\lib.win-amd64-3.7\\pickle5\\test\n",
      "  copying pickle5\\test\\test_picklebuffer.py -> build\\lib.win-amd64-3.7\\pickle5\\test\n",
      "  copying pickle5\\test\\__init__.py -> build\\lib.win-amd64-3.7\\pickle5\\test\n",
      "  running build_ext\n",
      "  building 'pickle5._pickle' extension\n",
      "  error: Microsoft Visual C++ 14.0 or greater is required. Get it with \"Microsoft C++ Build Tools\": https://visualstudio.microsoft.com/visual-cpp-build-tools/\n",
      "  ----------------------------------------\n",
      "  ERROR: Failed building wheel for pickle5\n",
      "    ERROR: Command errored out with exit status 1:\n",
      "     command: 'C:\\Users\\USER\\anaconda3\\envs\\endsarsproject\\python.exe' -u -c 'import sys, setuptools, tokenize; sys.argv[0] = '\"'\"'C:\\\\Users\\\\USER\\\\AppData\\\\Local\\\\Temp\\\\pip-install-x4e05can\\\\pickle5_36aa2393169d441488aa5d824235210b\\\\setup.py'\"'\"'; __file__='\"'\"'C:\\\\Users\\\\USER\\\\AppData\\\\Local\\\\Temp\\\\pip-install-x4e05can\\\\pickle5_36aa2393169d441488aa5d824235210b\\\\setup.py'\"'\"';f=getattr(tokenize, '\"'\"'open'\"'\"', open)(__file__);code=f.read().replace('\"'\"'\\r\\n'\"'\"', '\"'\"'\\n'\"'\"');f.close();exec(compile(code, __file__, '\"'\"'exec'\"'\"'))' install --record 'C:\\Users\\USER\\AppData\\Local\\Temp\\pip-record-hftzlqle\\install-record.txt' --single-version-externally-managed --compile --install-headers 'C:\\Users\\USER\\anaconda3\\envs\\endsarsproject\\Include\\pickle5'\n",
      "         cwd: C:\\Users\\USER\\AppData\\Local\\Temp\\pip-install-x4e05can\\pickle5_36aa2393169d441488aa5d824235210b\\\n",
      "    Complete output (17 lines):\n",
      "    running install\n",
      "    running build\n",
      "    running build_py\n",
      "    creating build\n",
      "    creating build\\lib.win-amd64-3.7\n",
      "    creating build\\lib.win-amd64-3.7\\pickle5\n",
      "    copying pickle5\\pickle.py -> build\\lib.win-amd64-3.7\\pickle5\n",
      "    copying pickle5\\pickletools.py -> build\\lib.win-amd64-3.7\\pickle5\n",
      "    copying pickle5\\__init__.py -> build\\lib.win-amd64-3.7\\pickle5\n",
      "    creating build\\lib.win-amd64-3.7\\pickle5\\test\n",
      "    copying pickle5\\test\\pickletester.py -> build\\lib.win-amd64-3.7\\pickle5\\test\n",
      "    copying pickle5\\test\\test_pickle.py -> build\\lib.win-amd64-3.7\\pickle5\\test\n",
      "    copying pickle5\\test\\test_picklebuffer.py -> build\\lib.win-amd64-3.7\\pickle5\\test\n",
      "    copying pickle5\\test\\__init__.py -> build\\lib.win-amd64-3.7\\pickle5\\test\n",
      "    running build_ext\n",
      "    building 'pickle5._pickle' extension\n",
      "    error: Microsoft Visual C++ 14.0 or greater is required. Get it with \"Microsoft C++ Build Tools\": https://visualstudio.microsoft.com/visual-cpp-build-tools/\n",
      "    ----------------------------------------\n",
      "ERROR: Command errored out with exit status 1: 'C:\\Users\\USER\\anaconda3\\envs\\endsarsproject\\python.exe' -u -c 'import sys, setuptools, tokenize; sys.argv[0] = '\"'\"'C:\\\\Users\\\\USER\\\\AppData\\\\Local\\\\Temp\\\\pip-install-x4e05can\\\\pickle5_36aa2393169d441488aa5d824235210b\\\\setup.py'\"'\"'; __file__='\"'\"'C:\\\\Users\\\\USER\\\\AppData\\\\Local\\\\Temp\\\\pip-install-x4e05can\\\\pickle5_36aa2393169d441488aa5d824235210b\\\\setup.py'\"'\"';f=getattr(tokenize, '\"'\"'open'\"'\"', open)(__file__);code=f.read().replace('\"'\"'\\r\\n'\"'\"', '\"'\"'\\n'\"'\"');f.close();exec(compile(code, __file__, '\"'\"'exec'\"'\"'))' install --record 'C:\\Users\\USER\\AppData\\Local\\Temp\\pip-record-hftzlqle\\install-record.txt' --single-version-externally-managed --compile --install-headers 'C:\\Users\\USER\\anaconda3\\envs\\endsarsproject\\Include\\pickle5' Check the logs for full command output.\n",
      "WARNING: You are using pip version 21.0.1; however, version 21.1 is available.\n",
      "You should consider upgrading via the 'C:\\Users\\USER\\anaconda3\\envs\\endsarsproject\\python.exe -m pip install --upgrade pip' command.\n"
     ]
    },
    {
     "name": "stdout",
     "output_type": "stream",
     "text": [
      "\n",
      "  Using cached pickle5-0.0.11.tar.gz (132 kB)\n",
      "Building wheels for collected packages: pickle5\n",
      "  Building wheel for pickle5 (setup.py): started\n",
      "  Building wheel for pickle5 (setup.py): finished with status 'error'\n",
      "  Running setup.py clean for pickle5\n",
      "Failed to build pickle5\n",
      "Installing collected packages: pickle5\n",
      "    Running setup.py install for pickle5: started\n",
      "    Running setup.py install for pickle5: finished with status 'error'\n"
     ]
    }
   ],
   "source": [
    "pip install pickle5\n"
   ]
  },
  {
   "cell_type": "code",
   "execution_count": 61,
   "metadata": {},
   "outputs": [
    {
     "ename": "ModuleNotFoundError",
     "evalue": "No module named 'pickle5'",
     "output_type": "error",
     "traceback": [
      "\u001b[1;31m---------------------------------------------------------------------------\u001b[0m",
      "\u001b[1;31mModuleNotFoundError\u001b[0m                       Traceback (most recent call last)",
      "\u001b[1;32m<ipython-input-61-7bcb69916f57>\u001b[0m in \u001b[0;36m<module>\u001b[1;34m\u001b[0m\n\u001b[1;32m----> 1\u001b[1;33m \u001b[1;32mimport\u001b[0m \u001b[0mpickle5\u001b[0m \u001b[1;32mas\u001b[0m \u001b[0mpickle\u001b[0m\u001b[1;33m\u001b[0m\u001b[1;33m\u001b[0m\u001b[0m\n\u001b[0m",
      "\u001b[1;31mModuleNotFoundError\u001b[0m: No module named 'pickle5'"
     ]
    }
   ],
   "source": [
    "import pickle5 as pickle\n"
   ]
  },
  {
   "cell_type": "code",
   "execution_count": 63,
   "metadata": {},
   "outputs": [],
   "source": [
    "first_data = pd.read_pickle('endsars_tweets_yusuf_saburi_oct_2020_Dec_2020_oct_20_oct_27.pkl')"
   ]
  },
  {
   "cell_type": "code",
   "execution_count": 64,
   "metadata": {},
   "outputs": [
    {
     "data": {
      "text/html": [
       "<div>\n",
       "<style scoped>\n",
       "    .dataframe tbody tr th:only-of-type {\n",
       "        vertical-align: middle;\n",
       "    }\n",
       "\n",
       "    .dataframe tbody tr th {\n",
       "        vertical-align: top;\n",
       "    }\n",
       "\n",
       "    .dataframe thead th {\n",
       "        text-align: right;\n",
       "    }\n",
       "</style>\n",
       "<table border=\"1\" class=\"dataframe\">\n",
       "  <thead>\n",
       "    <tr style=\"text-align: right;\">\n",
       "      <th></th>\n",
       "      <th>id</th>\n",
       "      <th>author_id</th>\n",
       "      <th>text</th>\n",
       "      <th>created_at</th>\n",
       "      <th>in_reply_to_user_id</th>\n",
       "      <th>geo</th>\n",
       "      <th>users</th>\n",
       "      <th>tweets</th>\n",
       "      <th>places</th>\n",
       "      <th>newest_id</th>\n",
       "      <th>...</th>\n",
       "      <th>mentions</th>\n",
       "      <th>followers_count</th>\n",
       "      <th>following_count</th>\n",
       "      <th>tweet_count</th>\n",
       "      <th>listed_count</th>\n",
       "      <th>referenced_tweet_type</th>\n",
       "      <th>referenced_tweet_id</th>\n",
       "      <th>lang</th>\n",
       "      <th>user_id</th>\n",
       "      <th>description</th>\n",
       "    </tr>\n",
       "  </thead>\n",
       "  <tbody>\n",
       "    <tr>\n",
       "      <th>0</th>\n",
       "      <td>1.225932e+18</td>\n",
       "      <td>2.848604e+09</td>\n",
       "      <td>Even God love dreads that was why he gave sams...</td>\n",
       "      <td>2020-02-07 23:59:49+00:00</td>\n",
       "      <td>NaN</td>\n",
       "      <td>NaN</td>\n",
       "      <td>NaN</td>\n",
       "      <td>NaN</td>\n",
       "      <td>NaN</td>\n",
       "      <td>NaN</td>\n",
       "      <td>...</td>\n",
       "      <td>NaN</td>\n",
       "      <td>224.0</td>\n",
       "      <td>1089.0</td>\n",
       "      <td>1355.0</td>\n",
       "      <td>0.0</td>\n",
       "      <td>NaN</td>\n",
       "      <td>NaN</td>\n",
       "      <td>NaN</td>\n",
       "      <td>NaN</td>\n",
       "      <td>NaN</td>\n",
       "    </tr>\n",
       "    <tr>\n",
       "      <th>1</th>\n",
       "      <td>1.225931e+18</td>\n",
       "      <td>1.177414e+18</td>\n",
       "      <td>@segalink I honestly don't know why some peopl...</td>\n",
       "      <td>2020-02-07 23:56:12+00:00</td>\n",
       "      <td>14879097.0</td>\n",
       "      <td>NaN</td>\n",
       "      <td>NaN</td>\n",
       "      <td>NaN</td>\n",
       "      <td>NaN</td>\n",
       "      <td>NaN</td>\n",
       "      <td>...</td>\n",
       "      <td>['segalink']</td>\n",
       "      <td>56.0</td>\n",
       "      <td>223.0</td>\n",
       "      <td>1445.0</td>\n",
       "      <td>0.0</td>\n",
       "      <td>replied_to</td>\n",
       "      <td>1.225843e+18</td>\n",
       "      <td>NaN</td>\n",
       "      <td>NaN</td>\n",
       "      <td>NaN</td>\n",
       "    </tr>\n",
       "    <tr>\n",
       "      <th>2</th>\n",
       "      <td>1.225931e+18</td>\n",
       "      <td>7.805167e+17</td>\n",
       "      <td>If they #EndSARS as a department What about th...</td>\n",
       "      <td>2020-02-07 23:55:58+00:00</td>\n",
       "      <td>NaN</td>\n",
       "      <td>NaN</td>\n",
       "      <td>NaN</td>\n",
       "      <td>NaN</td>\n",
       "      <td>NaN</td>\n",
       "      <td>NaN</td>\n",
       "      <td>...</td>\n",
       "      <td>NaN</td>\n",
       "      <td>527.0</td>\n",
       "      <td>594.0</td>\n",
       "      <td>1628.0</td>\n",
       "      <td>0.0</td>\n",
       "      <td>NaN</td>\n",
       "      <td>NaN</td>\n",
       "      <td>NaN</td>\n",
       "      <td>NaN</td>\n",
       "      <td>NaN</td>\n",
       "    </tr>\n",
       "    <tr>\n",
       "      <th>3</th>\n",
       "      <td>1.225931e+18</td>\n",
       "      <td>1.071185e+18</td>\n",
       "      <td>Somebody saidSEX is the only time you're been ...</td>\n",
       "      <td>2020-02-07 23:55:29+00:00</td>\n",
       "      <td>NaN</td>\n",
       "      <td>NaN</td>\n",
       "      <td>NaN</td>\n",
       "      <td>NaN</td>\n",
       "      <td>NaN</td>\n",
       "      <td>NaN</td>\n",
       "      <td>...</td>\n",
       "      <td>NaN</td>\n",
       "      <td>4650.0</td>\n",
       "      <td>5053.0</td>\n",
       "      <td>28693.0</td>\n",
       "      <td>1.0</td>\n",
       "      <td>NaN</td>\n",
       "      <td>NaN</td>\n",
       "      <td>NaN</td>\n",
       "      <td>NaN</td>\n",
       "      <td>NaN</td>\n",
       "    </tr>\n",
       "    <tr>\n",
       "      <th>4</th>\n",
       "      <td>1.225931e+18</td>\n",
       "      <td>7.746748e+08</td>\n",
       "      <td>Forget about #EndSARS first #Arewatwitter do y...</td>\n",
       "      <td>2020-02-07 23:54:32+00:00</td>\n",
       "      <td>NaN</td>\n",
       "      <td>{'place_id': '005c6f3641f95852'}</td>\n",
       "      <td>NaN</td>\n",
       "      <td>NaN</td>\n",
       "      <td>NaN</td>\n",
       "      <td>NaN</td>\n",
       "      <td>...</td>\n",
       "      <td>NaN</td>\n",
       "      <td>831.0</td>\n",
       "      <td>1395.0</td>\n",
       "      <td>3855.0</td>\n",
       "      <td>0.0</td>\n",
       "      <td>NaN</td>\n",
       "      <td>NaN</td>\n",
       "      <td>NaN</td>\n",
       "      <td>NaN</td>\n",
       "      <td>NaN</td>\n",
       "    </tr>\n",
       "    <tr>\n",
       "      <th>...</th>\n",
       "      <td>...</td>\n",
       "      <td>...</td>\n",
       "      <td>...</td>\n",
       "      <td>...</td>\n",
       "      <td>...</td>\n",
       "      <td>...</td>\n",
       "      <td>...</td>\n",
       "      <td>...</td>\n",
       "      <td>...</td>\n",
       "      <td>...</td>\n",
       "      <td>...</td>\n",
       "      <td>...</td>\n",
       "      <td>...</td>\n",
       "      <td>...</td>\n",
       "      <td>...</td>\n",
       "      <td>...</td>\n",
       "      <td>...</td>\n",
       "      <td>...</td>\n",
       "      <td>...</td>\n",
       "      <td>...</td>\n",
       "      <td>...</td>\n",
       "    </tr>\n",
       "    <tr>\n",
       "      <th>82637</th>\n",
       "      <td>1.346415e+18</td>\n",
       "      <td>1.277579e+18</td>\n",
       "      <td>RT @memeactivistt: We are not in a democracy b...</td>\n",
       "      <td>2021-01-05T11:13:57.000Z</td>\n",
       "      <td>NaN</td>\n",
       "      <td>NaN</td>\n",
       "      <td>NaN</td>\n",
       "      <td>NaN</td>\n",
       "      <td>NaN</td>\n",
       "      <td>NaN</td>\n",
       "      <td>...</td>\n",
       "      <td>NaN</td>\n",
       "      <td>385.0</td>\n",
       "      <td>1.0</td>\n",
       "      <td>59779.0</td>\n",
       "      <td>0.0</td>\n",
       "      <td>retweeted</td>\n",
       "      <td>1.346400e+18</td>\n",
       "      <td>en</td>\n",
       "      <td>1.277579e+18</td>\n",
       "      <td>I am a bot that like and RT all  #EndSARS rela...</td>\n",
       "    </tr>\n",
       "    <tr>\n",
       "      <th>82638</th>\n",
       "      <td>1.346414e+18</td>\n",
       "      <td>1.154795e+18</td>\n",
       "      <td>RT @Karwaay: 15. Tag, RT, share this thread wi...</td>\n",
       "      <td>2021-01-05T11:12:13.000Z</td>\n",
       "      <td>NaN</td>\n",
       "      <td>NaN</td>\n",
       "      <td>NaN</td>\n",
       "      <td>NaN</td>\n",
       "      <td>NaN</td>\n",
       "      <td>NaN</td>\n",
       "      <td>...</td>\n",
       "      <td>['Karwaay']</td>\n",
       "      <td>2860.0</td>\n",
       "      <td>1.0</td>\n",
       "      <td>123979.0</td>\n",
       "      <td>8.0</td>\n",
       "      <td>retweeted</td>\n",
       "      <td>1.321740e+18</td>\n",
       "      <td>en</td>\n",
       "      <td>1.154795e+18</td>\n",
       "      <td>Twitter Bot that likes and retweets everything...</td>\n",
       "    </tr>\n",
       "    <tr>\n",
       "      <th>82639</th>\n",
       "      <td>1.346414e+18</td>\n",
       "      <td>1.154795e+18</td>\n",
       "      <td>RT @DoubleS07320708: Don’t just listen to peop...</td>\n",
       "      <td>2021-01-05T11:11:02.000Z</td>\n",
       "      <td>NaN</td>\n",
       "      <td>NaN</td>\n",
       "      <td>NaN</td>\n",
       "      <td>NaN</td>\n",
       "      <td>NaN</td>\n",
       "      <td>NaN</td>\n",
       "      <td>...</td>\n",
       "      <td>NaN</td>\n",
       "      <td>2860.0</td>\n",
       "      <td>1.0</td>\n",
       "      <td>123979.0</td>\n",
       "      <td>8.0</td>\n",
       "      <td>retweeted</td>\n",
       "      <td>1.346406e+18</td>\n",
       "      <td>en</td>\n",
       "      <td>1.154795e+18</td>\n",
       "      <td>Twitter Bot that likes and retweets everything...</td>\n",
       "    </tr>\n",
       "    <tr>\n",
       "      <th>82640</th>\n",
       "      <td>1.346414e+18</td>\n",
       "      <td>1.301832e+18</td>\n",
       "      <td>RT @jason_enai: 10 Naira and 10 Pounds are pri...</td>\n",
       "      <td>2021-01-05T11:10:46.000Z</td>\n",
       "      <td>NaN</td>\n",
       "      <td>NaN</td>\n",
       "      <td>NaN</td>\n",
       "      <td>NaN</td>\n",
       "      <td>NaN</td>\n",
       "      <td>NaN</td>\n",
       "      <td>...</td>\n",
       "      <td>['jason_enai']</td>\n",
       "      <td>187.0</td>\n",
       "      <td>364.0</td>\n",
       "      <td>10746.0</td>\n",
       "      <td>0.0</td>\n",
       "      <td>retweeted</td>\n",
       "      <td>1.346411e+18</td>\n",
       "      <td>en</td>\n",
       "      <td>1.301832e+18</td>\n",
       "      <td>Aspiring writer/ Former fitness enthusiast / F...</td>\n",
       "    </tr>\n",
       "    <tr>\n",
       "      <th>82641</th>\n",
       "      <td>1.346413e+18</td>\n",
       "      <td>1.154795e+18</td>\n",
       "      <td>RT @JudithSaleh: @henryshield @YeleSowore Nah ...</td>\n",
       "      <td>2021-01-05T11:06:46.000Z</td>\n",
       "      <td>NaN</td>\n",
       "      <td>NaN</td>\n",
       "      <td>NaN</td>\n",
       "      <td>NaN</td>\n",
       "      <td>NaN</td>\n",
       "      <td>NaN</td>\n",
       "      <td>...</td>\n",
       "      <td>['JudithSaleh', 'henryshield', 'YeleSowore']</td>\n",
       "      <td>2860.0</td>\n",
       "      <td>1.0</td>\n",
       "      <td>123979.0</td>\n",
       "      <td>8.0</td>\n",
       "      <td>retweeted</td>\n",
       "      <td>1.346411e+18</td>\n",
       "      <td>en</td>\n",
       "      <td>1.154795e+18</td>\n",
       "      <td>Twitter Bot that likes and retweets everything...</td>\n",
       "    </tr>\n",
       "  </tbody>\n",
       "</table>\n",
       "<p>82642 rows × 36 columns</p>\n",
       "</div>"
      ],
      "text/plain": [
       "                 id     author_id  \\\n",
       "0      1.225932e+18  2.848604e+09   \n",
       "1      1.225931e+18  1.177414e+18   \n",
       "2      1.225931e+18  7.805167e+17   \n",
       "3      1.225931e+18  1.071185e+18   \n",
       "4      1.225931e+18  7.746748e+08   \n",
       "...             ...           ...   \n",
       "82637  1.346415e+18  1.277579e+18   \n",
       "82638  1.346414e+18  1.154795e+18   \n",
       "82639  1.346414e+18  1.154795e+18   \n",
       "82640  1.346414e+18  1.301832e+18   \n",
       "82641  1.346413e+18  1.154795e+18   \n",
       "\n",
       "                                                    text  \\\n",
       "0      Even God love dreads that was why he gave sams...   \n",
       "1      @segalink I honestly don't know why some peopl...   \n",
       "2      If they #EndSARS as a department What about th...   \n",
       "3      Somebody saidSEX is the only time you're been ...   \n",
       "4      Forget about #EndSARS first #Arewatwitter do y...   \n",
       "...                                                  ...   \n",
       "82637  RT @memeactivistt: We are not in a democracy b...   \n",
       "82638  RT @Karwaay: 15. Tag, RT, share this thread wi...   \n",
       "82639  RT @DoubleS07320708: Don’t just listen to peop...   \n",
       "82640  RT @jason_enai: 10 Naira and 10 Pounds are pri...   \n",
       "82641  RT @JudithSaleh: @henryshield @YeleSowore Nah ...   \n",
       "\n",
       "                      created_at  in_reply_to_user_id  \\\n",
       "0      2020-02-07 23:59:49+00:00                  NaN   \n",
       "1      2020-02-07 23:56:12+00:00           14879097.0   \n",
       "2      2020-02-07 23:55:58+00:00                  NaN   \n",
       "3      2020-02-07 23:55:29+00:00                  NaN   \n",
       "4      2020-02-07 23:54:32+00:00                  NaN   \n",
       "...                          ...                  ...   \n",
       "82637   2021-01-05T11:13:57.000Z                  NaN   \n",
       "82638   2021-01-05T11:12:13.000Z                  NaN   \n",
       "82639   2021-01-05T11:11:02.000Z                  NaN   \n",
       "82640   2021-01-05T11:10:46.000Z                  NaN   \n",
       "82641   2021-01-05T11:06:46.000Z                  NaN   \n",
       "\n",
       "                                    geo users tweets places  newest_id  ...  \\\n",
       "0                                   NaN   NaN    NaN    NaN        NaN  ...   \n",
       "1                                   NaN   NaN    NaN    NaN        NaN  ...   \n",
       "2                                   NaN   NaN    NaN    NaN        NaN  ...   \n",
       "3                                   NaN   NaN    NaN    NaN        NaN  ...   \n",
       "4      {'place_id': '005c6f3641f95852'}   NaN    NaN    NaN        NaN  ...   \n",
       "...                                 ...   ...    ...    ...        ...  ...   \n",
       "82637                               NaN   NaN    NaN    NaN        NaN  ...   \n",
       "82638                               NaN   NaN    NaN    NaN        NaN  ...   \n",
       "82639                               NaN   NaN    NaN    NaN        NaN  ...   \n",
       "82640                               NaN   NaN    NaN    NaN        NaN  ...   \n",
       "82641                               NaN   NaN    NaN    NaN        NaN  ...   \n",
       "\n",
       "                                           mentions  followers_count  \\\n",
       "0                                               NaN            224.0   \n",
       "1                                      ['segalink']             56.0   \n",
       "2                                               NaN            527.0   \n",
       "3                                               NaN           4650.0   \n",
       "4                                               NaN            831.0   \n",
       "...                                             ...              ...   \n",
       "82637                                           NaN            385.0   \n",
       "82638                                   ['Karwaay']           2860.0   \n",
       "82639                                           NaN           2860.0   \n",
       "82640                                ['jason_enai']            187.0   \n",
       "82641  ['JudithSaleh', 'henryshield', 'YeleSowore']           2860.0   \n",
       "\n",
       "       following_count tweet_count listed_count referenced_tweet_type  \\\n",
       "0               1089.0      1355.0          0.0                   NaN   \n",
       "1                223.0      1445.0          0.0            replied_to   \n",
       "2                594.0      1628.0          0.0                   NaN   \n",
       "3               5053.0     28693.0          1.0                   NaN   \n",
       "4               1395.0      3855.0          0.0                   NaN   \n",
       "...                ...         ...          ...                   ...   \n",
       "82637              1.0     59779.0          0.0             retweeted   \n",
       "82638              1.0    123979.0          8.0             retweeted   \n",
       "82639              1.0    123979.0          8.0             retweeted   \n",
       "82640            364.0     10746.0          0.0             retweeted   \n",
       "82641              1.0    123979.0          8.0             retweeted   \n",
       "\n",
       "      referenced_tweet_id lang       user_id  \\\n",
       "0                     NaN  NaN           NaN   \n",
       "1            1.225843e+18  NaN           NaN   \n",
       "2                     NaN  NaN           NaN   \n",
       "3                     NaN  NaN           NaN   \n",
       "4                     NaN  NaN           NaN   \n",
       "...                   ...  ...           ...   \n",
       "82637        1.346400e+18   en  1.277579e+18   \n",
       "82638        1.321740e+18   en  1.154795e+18   \n",
       "82639        1.346406e+18   en  1.154795e+18   \n",
       "82640        1.346411e+18   en  1.301832e+18   \n",
       "82641        1.346411e+18   en  1.154795e+18   \n",
       "\n",
       "                                             description  \n",
       "0                                                    NaN  \n",
       "1                                                    NaN  \n",
       "2                                                    NaN  \n",
       "3                                                    NaN  \n",
       "4                                                    NaN  \n",
       "...                                                  ...  \n",
       "82637  I am a bot that like and RT all  #EndSARS rela...  \n",
       "82638  Twitter Bot that likes and retweets everything...  \n",
       "82639  Twitter Bot that likes and retweets everything...  \n",
       "82640  Aspiring writer/ Former fitness enthusiast / F...  \n",
       "82641  Twitter Bot that likes and retweets everything...  \n",
       "\n",
       "[82642 rows x 36 columns]"
      ]
     },
     "execution_count": 64,
     "metadata": {},
     "output_type": "execute_result"
    }
   ],
   "source": [
    "first_data['text']"
   ]
  },
  {
   "cell_type": "code",
   "execution_count": 67,
   "metadata": {},
   "outputs": [
    {
     "data": {
      "text/plain": [
       "dtype('O')"
      ]
     },
     "execution_count": 67,
     "metadata": {},
     "output_type": "execute_result"
    }
   ],
   "source": [
    "first_data['text'].dtype"
   ]
  },
  {
   "cell_type": "code",
   "execution_count": null,
   "metadata": {},
   "outputs": [],
   "source": []
  },
  {
   "cell_type": "code",
   "execution_count": 12,
   "metadata": {},
   "outputs": [
    {
     "ename": "ValueError",
     "evalue": "unsupported pickle protocol: 5",
     "output_type": "error",
     "traceback": [
      "\u001b[1;31m---------------------------------------------------------------------------\u001b[0m",
      "\u001b[1;31mValueError\u001b[0m                                Traceback (most recent call last)",
      "\u001b[1;32m<ipython-input-12-109a0a1db0f3>\u001b[0m in \u001b[0;36m<module>\u001b[1;34m\u001b[0m\n\u001b[1;32m----> 1\u001b[1;33m \u001b[0msecond_data\u001b[0m \u001b[1;33m=\u001b[0m \u001b[0mpd\u001b[0m\u001b[1;33m.\u001b[0m\u001b[0mread_pickle\u001b[0m\u001b[1;33m(\u001b[0m\u001b[1;34m'endsars_tweets_yimika_erinle_jan_2021_mar_2021_oct_20_nov_1.pkl'\u001b[0m\u001b[1;33m)\u001b[0m\u001b[1;33m\u001b[0m\u001b[1;33m\u001b[0m\u001b[0m\n\u001b[0m",
      "\u001b[1;32m~\\anaconda3\\envs\\endsarsproject\\lib\\site-packages\\pandas\\io\\pickle.py\u001b[0m in \u001b[0;36mread_pickle\u001b[1;34m(filepath_or_buffer, compression, storage_options)\u001b[0m\n\u001b[0;32m    201\u001b[0m                     \u001b[1;31m# We want to silence any warnings about, e.g. moved modules.\u001b[0m\u001b[1;33m\u001b[0m\u001b[1;33m\u001b[0m\u001b[1;33m\u001b[0m\u001b[0m\n\u001b[0;32m    202\u001b[0m                     \u001b[0mwarnings\u001b[0m\u001b[1;33m.\u001b[0m\u001b[0msimplefilter\u001b[0m\u001b[1;33m(\u001b[0m\u001b[1;34m\"ignore\"\u001b[0m\u001b[1;33m,\u001b[0m \u001b[0mWarning\u001b[0m\u001b[1;33m)\u001b[0m\u001b[1;33m\u001b[0m\u001b[1;33m\u001b[0m\u001b[0m\n\u001b[1;32m--> 203\u001b[1;33m                     \u001b[1;32mreturn\u001b[0m \u001b[0mpickle\u001b[0m\u001b[1;33m.\u001b[0m\u001b[0mload\u001b[0m\u001b[1;33m(\u001b[0m\u001b[0mhandles\u001b[0m\u001b[1;33m.\u001b[0m\u001b[0mhandle\u001b[0m\u001b[1;33m)\u001b[0m  \u001b[1;31m# type: ignore[arg-type]\u001b[0m\u001b[1;33m\u001b[0m\u001b[1;33m\u001b[0m\u001b[0m\n\u001b[0m\u001b[0;32m    204\u001b[0m             \u001b[1;32mexcept\u001b[0m \u001b[0mexcs_to_catch\u001b[0m\u001b[1;33m:\u001b[0m\u001b[1;33m\u001b[0m\u001b[1;33m\u001b[0m\u001b[0m\n\u001b[0;32m    205\u001b[0m                 \u001b[1;31m# e.g.\u001b[0m\u001b[1;33m\u001b[0m\u001b[1;33m\u001b[0m\u001b[1;33m\u001b[0m\u001b[0m\n",
      "\u001b[1;31mValueError\u001b[0m: unsupported pickle protocol: 5"
     ]
    }
   ],
   "source": [
    " second_data = pd.read_pickle('endsars_tweets_yimika_erinle_jan_2021_mar_2021_oct_20_nov_1.pkl')"
   ]
  },
  {
   "cell_type": "code",
   "execution_count": 71,
   "metadata": {},
   "outputs": [
    {
     "name": "stdout",
     "output_type": "stream",
     "text": [
      "Requirement already satisfied: wordcloud in c:\\users\\user\\anaconda3\\envs\\endsarsproject\\lib\\site-packages (1.8.1)\n",
      "Requirement already satisfied: pillow in c:\\users\\user\\anaconda3\\envs\\endsarsproject\\lib\\site-packages (from wordcloud) (8.2.0)\n",
      "Requirement already satisfied: matplotlib in c:\\users\\user\\anaconda3\\envs\\endsarsproject\\lib\\site-packages (from wordcloud) (3.4.1)\n",
      "Requirement already satisfied: numpy>=1.6.1 in c:\\users\\user\\anaconda3\\envs\\endsarsproject\\lib\\site-packages (from wordcloud) (1.20.2)\n",
      "Requirement already satisfied: pyparsing>=2.2.1 in c:\\users\\user\\anaconda3\\envs\\endsarsproject\\lib\\site-packages (from matplotlib->wordcloud) (2.4.7)\n",
      "Requirement already satisfied: python-dateutil>=2.7 in c:\\users\\user\\anaconda3\\envs\\endsarsproject\\lib\\site-packages (from matplotlib->wordcloud) (2.8.1)\n",
      "Requirement already satisfied: cycler>=0.10 in c:\\users\\user\\anaconda3\\envs\\endsarsproject\\lib\\site-packages (from matplotlib->wordcloud) (0.10.0)\n",
      "Requirement already satisfied: kiwisolver>=1.0.1 in c:\\users\\user\\anaconda3\\envs\\endsarsproject\\lib\\site-packages (from matplotlib->wordcloud) (1.3.1)\n",
      "Requirement already satisfied: six in c:\\users\\user\\anaconda3\\envs\\endsarsproject\\lib\\site-packages (from cycler>=0.10->matplotlib->wordcloud) (1.15.0)\n",
      "Note: you may need to restart the kernel to use updated packages.\n"
     ]
    },
    {
     "name": "stderr",
     "output_type": "stream",
     "text": [
      "WARNING: You are using pip version 21.0.1; however, version 21.1 is available.\n",
      "You should consider upgrading via the 'C:\\Users\\USER\\anaconda3\\envs\\endsarsproject\\python.exe -m pip install --upgrade pip' command.\n"
     ]
    }
   ],
   "source": [
    "pip install wordcloud"
   ]
  },
  {
   "cell_type": "code",
   "execution_count": 75,
   "metadata": {},
   "outputs": [],
   "source": [
    "data = first_data.dropna(subset=['text'],inplace=True)\n"
   ]
  },
  {
   "cell_type": "code",
   "execution_count": 79,
   "metadata": {},
   "outputs": [],
   "source": [
    "first_data['text'] = first_data['text'].apply(lambda x: ' '.join(x.lower() for x in x.split()))"
   ]
  },
  {
   "cell_type": "code",
   "execution_count": 81,
   "metadata": {},
   "outputs": [
    {
     "name": "stderr",
     "output_type": "stream",
     "text": [
      "C:\\Users\\USER\\anaconda3\\envs\\endsarsproject\\lib\\site-packages\\ipykernel_launcher.py:1: FutureWarning: The default value of regex will change from True to False in a future version.\n",
      "  \"\"\"Entry point for launching an IPython kernel.\n"
     ]
    }
   ],
   "source": [
    "first_data['text'] = first_data['text'].str.replace('[^\\w\\s]','')"
   ]
  },
  {
   "cell_type": "code",
   "execution_count": 82,
   "metadata": {},
   "outputs": [
    {
     "name": "stderr",
     "output_type": "stream",
     "text": [
      "C:\\Users\\USER\\anaconda3\\envs\\endsarsproject\\lib\\site-packages\\ipykernel_launcher.py:1: FutureWarning: The default value of regex will change from True to False in a future version.\n",
      "  \"\"\"Entry point for launching an IPython kernel.\n"
     ]
    }
   ],
   "source": [
    "first_data['text'] = first_data['text'].str.replace('\\d','')"
   ]
  },
  {
   "cell_type": "code",
   "execution_count": 83,
   "metadata": {},
   "outputs": [
    {
     "data": {
      "text/plain": [
       "0        even god love dreads that was why he gave sams...\n",
       "1        segalink i honestly dont know why some people ...\n",
       "2        if they endsars as a department what about the...\n",
       "3        somebody saidsex is the only time youre been a...\n",
       "4        forget about endsars first arewatwitter do you...\n",
       "                               ...                        \n",
       "82637    rt memeactivistt we are not in a democracy but...\n",
       "82638    rt karwaay  tag rt share this thread with whoe...\n",
       "82639    rt doubles dont just listen to people who make...\n",
       "82640    rt jason_enai  naira and  pounds are printed o...\n",
       "82641    rt judithsaleh henryshield yelesowore nah sowo...\n",
       "Name: text, Length: 82642, dtype: object"
      ]
     },
     "execution_count": 83,
     "metadata": {},
     "output_type": "execute_result"
    }
   ],
   "source": [
    "first_data['text']"
   ]
  },
  {
   "cell_type": "code",
   "execution_count": 97,
   "metadata": {},
   "outputs": [],
   "source": [
    "import nltk"
   ]
  },
  {
   "cell_type": "code",
   "execution_count": 98,
   "metadata": {},
   "outputs": [
    {
     "name": "stderr",
     "output_type": "stream",
     "text": [
      "[nltk_data] Downloading package stopwords to\n",
      "[nltk_data]     C:\\Users\\USER\\AppData\\Roaming\\nltk_data...\n",
      "[nltk_data]   Package stopwords is already up-to-date!\n"
     ]
    }
   ],
   "source": [
    "nltk.download('stopwords')\n",
    "from nltk.corpus import stopwords\n",
    "sw = stopwords.words('english') \n",
    "first_data['text'] = first_data['text'].apply(lambda x: ' '.join(x for x in x.split() if x not in sw))"
   ]
  },
  {
   "cell_type": "code",
   "execution_count": 99,
   "metadata": {},
   "outputs": [],
   "source": [
    "import textblob\n",
    "from textblob import Word"
   ]
  },
  {
   "cell_type": "code",
   "execution_count": 100,
   "metadata": {},
   "outputs": [
    {
     "name": "stdout",
     "output_type": "stream",
     "text": [
      "Requirement already satisfied: textblob in c:\\users\\user\\anaconda3\\envs\\endsarsproject\\lib\\site-packages (0.15.3)\n",
      "Requirement already satisfied: nltk>=3.1 in c:\\users\\user\\anaconda3\\envs\\endsarsproject\\lib\\site-packages (from textblob) (3.6.2)\n",
      "Requirement already satisfied: joblib in c:\\users\\user\\anaconda3\\envs\\endsarsproject\\lib\\site-packages (from nltk>=3.1->textblob) (1.0.1)\n",
      "Requirement already satisfied: tqdm in c:\\users\\user\\anaconda3\\envs\\endsarsproject\\lib\\site-packages (from nltk>=3.1->textblob) (4.60.0)\n",
      "Requirement already satisfied: regex in c:\\users\\user\\anaconda3\\envs\\endsarsproject\\lib\\site-packages (from nltk>=3.1->textblob) (2021.4.4)\n",
      "Requirement already satisfied: click in c:\\users\\user\\anaconda3\\envs\\endsarsproject\\lib\\site-packages (from nltk>=3.1->textblob) (7.1.2)\n",
      "Note: you may need to restart the kernel to use updated packages.\n"
     ]
    },
    {
     "name": "stderr",
     "output_type": "stream",
     "text": [
      "WARNING: You are using pip version 21.0.1; however, version 21.1 is available.\n",
      "You should consider upgrading via the 'C:\\Users\\USER\\anaconda3\\envs\\endsarsproject\\python.exe -m pip install --upgrade pip' command.\n"
     ]
    }
   ],
   "source": [
    "pip install textblob"
   ]
  },
  {
   "cell_type": "code",
   "execution_count": 1,
   "metadata": {},
   "outputs": [
    {
     "name": "stderr",
     "output_type": "stream",
     "text": [
      "C:\\Users\\USER\\anaconda3\\envs\\endsarsproject\\lib\\site-packages\\ipykernel\\parentpoller.py:116: UserWarning: Parent poll failed.  If the frontend dies,\n",
      "                the kernel may be left running.  Please let us know\n",
      "                about your system (bitness, Python, etc.) at\n",
      "                ipython-dev@scipy.org\n",
      "  ipython-dev@scipy.org\"\"\")\n"
     ]
    },
    {
     "name": "stdout",
     "output_type": "stream",
     "text": [
      "Note: you may need to restart the kernel to use updated packages.\n"
     ]
    },
    {
     "name": "stderr",
     "output_type": "stream",
     "text": [
      "ERROR: Could not find a version that satisfies the requirement nlkt\n",
      "ERROR: No matching distribution found for nlkt\n",
      "WARNING: You are using pip version 21.0.1; however, version 21.1 is available.\n",
      "You should consider upgrading via the 'C:\\Users\\USER\\anaconda3\\envs\\endsarsproject\\python.exe -m pip install --upgrade pip' command.\n"
     ]
    }
   ],
   "source": [
    "pip install nlkt"
   ]
  },
  {
   "cell_type": "code",
   "execution_count": 2,
   "metadata": {},
   "outputs": [
    {
     "ename": "NameError",
     "evalue": "name 'nlkt' is not defined",
     "output_type": "error",
     "traceback": [
      "\u001b[1;31m---------------------------------------------------------------------------\u001b[0m",
      "\u001b[1;31mNameError\u001b[0m                                 Traceback (most recent call last)",
      "\u001b[1;32m<ipython-input-2-69caa75b601b>\u001b[0m in \u001b[0;36m<module>\u001b[1;34m\u001b[0m\n\u001b[1;32m----> 1\u001b[1;33m \u001b[0mnlkt\u001b[0m\u001b[1;33m.\u001b[0m\u001b[0mdownload\u001b[0m\u001b[1;33m(\u001b[0m\u001b[1;34m'wordnet'\u001b[0m\u001b[1;33m)\u001b[0m\u001b[1;33m\u001b[0m\u001b[1;33m\u001b[0m\u001b[0m\n\u001b[0m",
      "\u001b[1;31mNameError\u001b[0m: name 'nlkt' is not defined"
     ]
    }
   ],
   "source": [
    "nlkt.download('wordnet')"
   ]
  },
  {
   "cell_type": "code",
   "execution_count": 11,
   "metadata": {},
   "outputs": [
    {
     "data": {
      "image/png": "[encoded data removed]",
      "text/plain": [
       "<Figure size 1080x1080 with 1 Axes>"
      ]
     },
     "metadata": {
      "needs_background": "light"
     },
     "output_type": "display_data"
    }
   ],
   "source": [
    "\n",
    "from wordcloud import WordCloud\n",
    "import matplotlib.pyplot as plt\n",
    "def show_wordcloud(dataframe, title = None):\n",
    "    wordcloud = WordCloud(\n",
    "        background_color = 'white',\n",
    "        max_words = 200,\n",
    "        max_font_size = 40, \n",
    "        scale = 3,\n",
    "        random_state = 42).generate(str(dataframe))\n",
    "    fig = plt.figure(1, figsize = (15, 15))\n",
    "    plt.axis('off')\n",
    "    if title: \n",
    "        fig.suptitle(title, fontsize = 20)\n",
    "        fig.subplots_adjust(top = 2.3)\n",
    "    plt.imshow(wordcloud)\n",
    "    plt.show()\n",
    "    \n",
    "# print wordcloud\n",
    "show_wordcloud(dataframe['text'])\n"
   ]
  },
  {
   "cell_type": "code",
   "execution_count": null,
   "metadata": {},
   "outputs": [],
   "source": []
  }
 ],
 "metadata": {
  "kernelspec": {
   "display_name": "Python [conda env:endsarsproject]",
   "language": "python",
   "name": "conda-env-endsarsproject-py"
  },
  "language_info": {
   "codemirror_mode": {
    "name": "ipython",
    "version": 3
   },
   "file_extension": ".py",
   "mimetype": "text/x-python",
   "name": "python",
   "nbconvert_exporter": "python",
   "pygments_lexer": "ipython3",
   "version": "3.7.10"
  }
 },
 "nbformat": 4,
 "nbformat_minor": 4
}
